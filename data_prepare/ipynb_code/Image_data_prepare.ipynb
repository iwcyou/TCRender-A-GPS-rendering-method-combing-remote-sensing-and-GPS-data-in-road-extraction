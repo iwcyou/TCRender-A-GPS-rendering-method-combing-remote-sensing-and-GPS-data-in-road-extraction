{
 "cells": [
  {
   "cell_type": "code",
   "execution_count": 6,
   "id": "f73df140",
   "metadata": {},
   "outputs": [],
   "source": [
    "from PIL import Image, ImageOps\n",
    "import torch\n",
    "from torchvision import transforms, datasets\n",
    "import rasterio\n",
    "import math\n",
    "import os\n",
    "import numpy as np\n",
    "import cv2\n",
    "Image.MAX_IMAGE_PIXELS = None # Disable DecompressionBombError，解决PIL的像素限制问题"
   ]
  },
  {
   "attachments": {},
   "cell_type": "markdown",
   "id": "7dff1f66",
   "metadata": {},
   "source": [
    "# Utils"
   ]
  },
  {
   "cell_type": "code",
   "execution_count": 2,
   "id": "21b95b51",
   "metadata": {},
   "outputs": [],
   "source": [
    "# WGS-84经纬度转Web墨卡托\n",
    "def wgs_to_mercator(x, y):\n",
    "    y = 85.0511287798 if y > 85.0511287798 else y\n",
    "    y = -85.0511287798 if y < -85.0511287798 else y\n",
    "\n",
    "    x2 = x * 20037508.34 / 180\n",
    "    y2 = math.log(math.tan((90 + y) * math.pi / 360)) / (math.pi / 180)\n",
    "    y2 = y2 * 20037508.34 / 180\n",
    "    return x2, y2\n",
    "\n",
    "# Web墨卡托转经纬度\n",
    "def mercator_to_wgs(x, y):\n",
    "    x2 = x / 20037508.34 * 180\n",
    "    y2 = y / 20037508.34 * 180\n",
    "    y2 = 180 / math.pi * \\\n",
    "        (2 * math.atan(math.exp(y2 * math.pi / 180)) - math.pi / 2)\n",
    "    return x2, y2"
   ]
  },
  {
   "cell_type": "code",
   "execution_count": 3,
   "id": "a3313a91",
   "metadata": {},
   "outputs": [],
   "source": [
    "#wgs84和gcj02的纠偏与互转\n",
    "\n",
    "def transformLat(x, y):\n",
    "    ret = -100.0 + 2.0 * x + 3.0 * y + 0.2 * y * \\\n",
    "        y + 0.1 * x * y + 0.2 * math.sqrt(abs(x))\n",
    "    ret += (20.0 * math.sin(6.0 * x * math.pi) + 20.0 *\n",
    "            math.sin(2.0 * x * math.pi)) * 2.0 / 3.0\n",
    "    ret += (20.0 * math.sin(y * math.pi) + 40.0 *\n",
    "            math.sin(y / 3.0 * math.pi)) * 2.0 / 3.0\n",
    "    ret += (160.0 * math.sin(y / 12.0 * math.pi) + 320 *\n",
    "            math.sin(y * math.pi / 30.0)) * 2.0 / 3.0\n",
    "    return ret\n",
    "\n",
    "\n",
    "def transformLon(x, y):\n",
    "    ret = 300.0 + x + 2.0 * y + 0.1 * x * x + \\\n",
    "        0.1 * x * y + 0.1 * math.sqrt(abs(x))\n",
    "    ret += (20.0 * math.sin(6.0 * x * math.pi) + 20.0 *\n",
    "            math.sin(2.0 * x * math.pi)) * 2.0 / 3.0\n",
    "    ret += (20.0 * math.sin(x * math.pi) + 40.0 *\n",
    "            math.sin(x / 3.0 * math.pi)) * 2.0 / 3.0\n",
    "    ret += (150.0 * math.sin(x / 12.0 * math.pi) + 300.0 *\n",
    "            math.sin(x / 30.0 * math.pi)) * 2.0 / 3.0\n",
    "    return ret\n",
    "\n",
    "\n",
    "def delta(lat, lon):\n",
    "    ''' \n",
    "    Krasovsky 1940\n",
    "    //\n",
    "    // a = 6378245.0, 1/f = 298.3\n",
    "    // b = a * (1 - f)\n",
    "    // ee = (a^2 - b^2) / a^2;\n",
    "    '''\n",
    "    a = 6378245.0  # a: 卫星椭球坐标投影到平面地图坐标系的投影因子。\n",
    "    ee = 0.00669342162296594323  # ee: 椭球的偏心率。\n",
    "    dLat = transformLat(lon - 105.0, lat - 35.0)\n",
    "    dLon = transformLon(lon - 105.0, lat - 35.0)\n",
    "    radLat = lat / 180.0 * math.pi\n",
    "    magic = math.sin(radLat)\n",
    "    magic = 1 - ee * magic * magic\n",
    "    sqrtMagic = math.sqrt(magic)\n",
    "    dLat = (dLat * 180.0) / ((a * (1 - ee)) / (magic * sqrtMagic) * math.pi)\n",
    "    dLon = (dLon * 180.0) / (a / sqrtMagic * math.cos(radLat) * math.pi)\n",
    "    return {'lat': dLat, 'lon': dLon}\n",
    "\n",
    "\n",
    "def outOfChina(lat, lon):\n",
    "    if (lon < 72.004 or lon > 137.8347):\n",
    "        return True\n",
    "    if (lat < 0.8293 or lat > 55.8271):\n",
    "        return True\n",
    "    return False\n",
    "\n",
    "\n",
    "def gcj_to_wgs(gcjLon, gcjLat):\n",
    "    if outOfChina(gcjLat, gcjLon):\n",
    "        return (gcjLon, gcjLat)\n",
    "    d = delta(gcjLat, gcjLon)\n",
    "    return (gcjLon - d[\"lon\"], gcjLat - d[\"lat\"])\n",
    "\n",
    "\n",
    "def wgs_to_gcj(wgsLon, wgsLat):\n",
    "    if outOfChina(wgsLat, wgsLon):\n",
    "        return wgsLon, wgsLat\n",
    "    d = delta(wgsLat, wgsLon)\n",
    "    return wgsLon + d[\"lon\"], wgsLat + d[\"lat\"]"
   ]
  },
  {
   "cell_type": "code",
   "execution_count": 4,
   "id": "44ed78fe",
   "metadata": {},
   "outputs": [
    {
     "data": {
      "text/plain": [
       "(12698658.366469823, 2592493.9833760057)"
      ]
     },
     "execution_count": 4,
     "metadata": {},
     "output_type": "execute_result"
    }
   ],
   "source": [
    "a, b = wgs_to_mercator(114.073989, 22.672775)\n",
    "a, b"
   ]
  },
  {
   "attachments": {},
   "cell_type": "markdown",
   "id": "125103dc",
   "metadata": {},
   "source": [
    "# Remote"
   ]
  },
  {
   "cell_type": "code",
   "execution_count": 10,
   "id": "fb0c05f0",
   "metadata": {},
   "outputs": [
    {
     "data": {
      "text/plain": [
       "6.543348388746381"
      ]
     },
     "execution_count": 10,
     "metadata": {},
     "output_type": "execute_result"
    }
   ],
   "source": [
    "path = '../Datasets'\n",
    "fsize = os.path.getsize(os.path.join(path,'amap_18_ns_satellite.tif')) #获取文件大小,单位为byte\n",
    "fsize = fsize/float(1024*1024*1024) #单位变成G\n",
    "fsize"
   ]
  },
  {
   "cell_type": "code",
   "execution_count": 2,
   "id": "607d7c4f",
   "metadata": {},
   "outputs": [
    {
     "name": "stdout",
     "output_type": "stream",
     "text": [
      "metadata:{'driver': 'GTiff', 'dtype': 'uint8', 'nodata': None, 'width': 45056, 'height': 51968, 'count': 3, 'crs': CRS.from_epsg(3857), 'transform': Affine(0.5971642834779645, 0.0, 12665921.334966816,\n",
      "       0.0, -0.5971642834779702, 2590450.8885846175)}\n",
      "srs:EPSG:3857\n",
      "| 0.60, 0.00, 12665921.33|\n",
      "| 0.00,-0.60, 2590450.89|\n",
      "| 0.00, 0.00, 1.00|\n",
      "Longitude range: 12665921.334966816 12692827.1689232\n",
      "Latitude range: 2590450.8885846175 2559417.4551008344\n",
      "<class 'affine.Affine'>\n",
      "坐标范围：BoundingBox(left=12665921.334966816, bottom=2559417.4551008344, right=12692827.1689232, top=2590450.8885846175)\n"
     ]
    }
   ],
   "source": [
    "#通过rasterio库读取tiff文件信息\n",
    "\n",
    "# Open the GeoTIFF file\n",
    "with rasterio.open('../Datasets/amap_18_ns_satellite.tif') as dataset:\n",
    "    # Access the geospatial metadata\n",
    "    metadata = dataset.meta\n",
    "    print(f\"metadata:{metadata}\") \n",
    "\n",
    "    # Access the spatial reference system (SRS)\n",
    "    srs = dataset.crs\n",
    "    print(f\"srs:{srs}\")\n",
    "\n",
    "    # Access the geotransform, which includes the coordinate information\n",
    "    transform = dataset.transform\n",
    "    print(transform)\n",
    "\n",
    "    # Access specific information like longitude and latitude bounds\n",
    "    min_lon, min_lat = transform * (0, 0)  # Top-left corner\n",
    "    max_lon, max_lat = transform * (dataset.width, dataset.height)  # Bottom-right corner\n",
    "    print(\"Longitude range:\", min_lon, max_lon)\n",
    "    print(\"Latitude range:\", min_lat, max_lat)\n",
    "    \n",
    "    print(type(transform))\n",
    "    print(f'坐标范围：{dataset.bounds}')"
   ]
  },
  {
   "cell_type": "code",
   "execution_count": 5,
   "id": "e3e95805",
   "metadata": {},
   "outputs": [
    {
     "data": {
      "text/plain": [
       "(12665921.334966816, 2559417.4551008344, 12692827.1689232, 2590450.8885846175)"
      ]
     },
     "execution_count": 5,
     "metadata": {},
     "output_type": "execute_result"
    }
   ],
   "source": [
    "dataset.bounds.left,dataset.bounds.bottom,dataset.bounds.right,dataset.bounds.top"
   ]
  },
  {
   "attachments": {},
   "cell_type": "markdown",
   "id": "c5bfd5ca",
   "metadata": {},
   "source": [
    "# Road"
   ]
  },
  {
   "cell_type": "code",
   "execution_count": 22,
   "id": "00b75f6e",
   "metadata": {},
   "outputs": [
    {
     "data": {
      "image/png": "[encoded data removed]",
      "text/plain": [
       "<PIL.Image.Image image mode=RGB size=104x104>"
      ]
     },
     "execution_count": 22,
     "metadata": {},
     "output_type": "execute_result"
    }
   ],
   "source": [
    "#compose的使用\n",
    "#image = Image.open('../Datasets/custom_ns_road.png')\n",
    "image = Image.open('../Datasets/amap_12_ns_satellite.png')\n",
    "transform = transforms.Compose([\n",
    "    #transforms.Resize([1024,1024])\n",
    "    transforms.RandomCrop([104,104])\n",
    "\n",
    "])\n",
    "image2 = transform(image)\n",
    "image2"
   ]
  },
  {
   "cell_type": "code",
   "execution_count": 7,
   "id": "80d42009",
   "metadata": {},
   "outputs": [
    {
     "data": {
      "text/plain": [
       "True"
      ]
     },
     "execution_count": 7,
     "metadata": {},
     "output_type": "execute_result"
    }
   ],
   "source": [
    "#路网图裁剪，使用cv2库,cv2库无法读取很大的图像，只能pil库读取完转换为numpy\n",
    "\n",
    "def crop_edges(image, width_to_crop, height_to_crop):\n",
    "    # Get the dimensions of the original image\n",
    "    height, width = image.shape[:2]\n",
    "\n",
    "    # Calculate the cropping dimensions\n",
    "    left = width_to_crop\n",
    "    upper = height_to_crop\n",
    "    right = width - width_to_crop\n",
    "    lower = height - height_to_crop\n",
    "\n",
    "    # Crop the image using OpenCV\n",
    "    cropped_image = image[upper:lower, left:right]\n",
    "\n",
    "    return cropped_image\n",
    "\n",
    "# Load the image using OpenCV\n",
    "image_path = '../Datasets/mask_all/national_road.png'\n",
    "original_image = Image.open(image_path)\n",
    "\n",
    "original_image = cv2.cvtColor(np.array(original_image), cv2.COLOR_RGBA2BGRA) \n",
    "\n",
    "# Define the number of pixels to crop from the edges\n",
    "width_to_crop = 1263  # Half the width of the image\n",
    "height_to_crop = 697  # Half the height of the image\n",
    "\n",
    "cropped_image = crop_edges(original_image, width_to_crop, height_to_crop)\n",
    "\n",
    "# Save the cropped image to a new file\n",
    "cv2.imwrite('../Datasets/mask_all/national_road_T.png', cropped_image)"
   ]
  },
  {
   "cell_type": "code",
   "execution_count": null,
   "id": "559bc02d",
   "metadata": {},
   "outputs": [],
   "source": []
  }
 ],
 "metadata": {
  "kernelspec": {
   "display_name": "Python 3 (ipykernel)",
   "language": "python",
   "name": "python3"
  },
  "language_info": {
   "codemirror_mode": {
    "name": "ipython",
    "version": 3
   },
   "file_extension": ".py",
   "mimetype": "text/x-python",
   "name": "python",
   "nbconvert_exporter": "python",
   "pygments_lexer": "ipython3",
   "version": "3.10.10"
  }
 },
 "nbformat": 4,
 "nbformat_minor": 5
}
