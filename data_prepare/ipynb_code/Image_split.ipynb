{
 "cells": [
  {
   "cell_type": "markdown",
   "metadata": {},
   "source": [
    "# 通过ImageSampler对卫星图进行裁剪生成数据集"
   ]
  },
  {
   "cell_type": "code",
   "execution_count": 28,
   "metadata": {},
   "outputs": [],
   "source": [
    "from PIL import Image, ImageFile\n",
    "import cv2\n",
    "import numpy as np\n",
    "import pickle\n",
    "import sys\n",
    "sys.path.append(\"../\")\n",
    "from image_sampler import ImageSampler\n",
    "Image.MAX_IMAGE_PIXELS = None # Disable DecompressionBombError\n",
    "ImageFile.LOAD_TRUNCATED_IMAGES = True # Disable OSError: image file is truncated"
   ]
  },
  {
   "cell_type": "code",
   "execution_count": 29,
   "metadata": {},
   "outputs": [],
   "source": [
    "train_path = \"../Datasets/dataset_original/train.png\"\n",
    "test_path = \"../Datasets/dataset_original/test.png\"\n",
    "mask_path = \"../Datasets/ns_road_nofootpath_T.png\"\n",
    "taxi_gps_path = \"../Datasets/GPS_data/taxi/GPS_taxi_2.0.pkl\"\n",
    "bus_gps_path = \"../Datasets/GPS_data/bus/GPS_bus_2.0.pkl\"\n",
    "\n",
    "# train_path = \"../Datasets/test_6/22.520000-113.920000.png\"\n",
    "# test_path = \"../Datasets/test_6/22.520000-113.920000.png\"\n",
    "# mask_path = \"../Datasets/test_6/22.520000-113.920000.png\"\n",
    "# taxi_gps_path = \"../Datasets/GPS_data/test.pkl\"\n",
    "# bus_gps_path = \"../Datasets/GPS_data/test.pkl\""
   ]
  },
  {
   "cell_type": "code",
   "execution_count": 30,
   "metadata": {},
   "outputs": [],
   "source": [
    "train_sat_img = Image.open(train_path)\n",
    "train_sat_img = cv2.cvtColor(np.array(train_sat_img), cv2.COLOR_RGBA2BGRA)\n",
    "test_sat_img = Image.open(test_path)\n",
    "test_sat_img = cv2.cvtColor(np.array(test_sat_img), cv2.COLOR_RGBA2BGRA)\n",
    "mask_img = Image.open(mask_path)\n",
    "mask_img = cv2.cvtColor(np.array(mask_img), cv2.COLOR_RGBA2BGRA)\n",
    "with open(taxi_gps_path, 'rb') as f:\n",
    "        taxi_gps = pickle.load(f, encoding='bytes')\n",
    "with open(bus_gps_path, 'rb') as f:\n",
    "        bus_gps = pickle.load(f, encoding='bytes')"
   ]
  },
  {
   "cell_type": "code",
   "execution_count": 31,
   "metadata": {},
   "outputs": [],
   "source": [
    "#对GPS数据的经纬度坐标进行了筛选和转换，使其能够对应到图片上的像素坐标\n",
    "def _read_gps_data (big_gps, coordinate_ranges):\n",
    "        gps_data = []\n",
    "        for coordinate_range in coordinate_ranges:\n",
    "            #坐标筛选\n",
    "            selected_rows = big_gps[(big_gps['lon'].between(coordinate_range[0][0], coordinate_range[1][0])) & (big_gps['lat'].between(coordinate_range[1][1], coordinate_range[0][1]))]\n",
    "            #转换为图片上的像素坐标,\"+0.5\"做到四舍五入\n",
    "            selected_rows['lon'] = ((selected_rows['lon'] - coordinate_range[0][0]) / (coordinate_range[1][0] - coordinate_range[0][0]) * 1024 + 0.5).astype(int)\n",
    "            selected_rows['lat'] = ((coordinate_range[0][1] - selected_rows['lat']) / (coordinate_range[0][1] - coordinate_range[1][1]) * 1024 + 0.5).astype(int)\n",
    "            gps_data.append(selected_rows)\n",
    "        return gps_data"
   ]
  },
  {
   "cell_type": "code",
   "execution_count": 32,
   "metadata": {},
   "outputs": [],
   "source": [
    "import pandas as pd\n",
    "pd.options.mode.chained_assignment = None  # Suppress the warning\n",
    "\n",
    "train_sam = ImageSampler(train_sat_img, mask_img, \"train\")\n",
    "train_sat_imgs, train_mask_imgs, train_coors = train_sam.images_sample()\n",
    "\n",
    "test_sam = ImageSampler(test_sat_img, mask_img, \"test\")\n",
    "test_sat_imgs, test_mask_imgs, test_coors = test_sam.images_sample()"
   ]
  },
  {
   "cell_type": "code",
   "execution_count": 33,
   "metadata": {},
   "outputs": [],
   "source": [
    "train_gps_data = _read_gps_data(taxi_gps, train_coors)\n",
    "test_gps_data = _read_gps_data(taxi_gps, test_coors)\n",
    "train_gps_data_bus = _read_gps_data(bus_gps, train_coors)\n",
    "test_gps_data_bus = _read_gps_data(bus_gps, test_coors)"
   ]
  },
  {
   "cell_type": "code",
   "execution_count": 34,
   "metadata": {},
   "outputs": [],
   "source": [
    "#保存数据\n",
    "for i in range(len(train_sat_imgs)):\n",
    "    #卫星图像数据\n",
    "    cv2.imwrite(f\"../Datasets/dataset_template_copy/train_val/image/{i//10}_{i%10}_sat.png\", train_sat_imgs[i])\n",
    "    #路网数据\n",
    "    cv2.imwrite(f\"../Datasets/dataset_template_copy/train_val/mask/{i//10}_{i%10}_mask.png\", train_mask_imgs[i])\n",
    "    #坐标数据\n",
    "    with open(f'../Datasets/dataset_template_copy/coordinates/{i//10}_{i%10}_gps.txt', 'w') as f:\n",
    "        f.write(f\"{train_coors[i]}\")\n",
    "    #taxi数据\n",
    "    with open(f'../Datasets/dataset_template_copy/GPS/taxi/{i//10}_{i%10}_gps.pkl', 'wb') as f:\n",
    "        pickle.dump(train_gps_data[i], f)\n",
    "    #bus数据\n",
    "    with open(f'../Datasets/dataset_template_copy/GPS/bus/{i//10}_{i%10}_gps.pkl', 'wb') as f:\n",
    "        pickle.dump(train_gps_data_bus[i], f)\n",
    "\n",
    "for i in range(len(test_sat_imgs)):#全部偏移2000行\n",
    "    cv2.imwrite(f\"../Datasets/dataset_template_copy/test/image_test/{i//10+2000}_{i%10}_sat.png\", test_sat_imgs[i])\n",
    "    cv2.imwrite(f\"../Datasets/dataset_template_copy/test/mask/{i//10+2000}_{i%10}_mask.png\", test_mask_imgs[i])\n",
    "    #坐标数据\n",
    "    with open(f'../Datasets/dataset_template_copy/coordinates/{i//10+2000}_{i%10}_gps.txt', 'w') as f:\n",
    "        f.write(f\"{test_coors[i]}\")\n",
    "    #taxi数据\n",
    "    with open(f'../Datasets/dataset_template_copy/GPS/taxi/{i//10+2000}_{i%10}_gps.pkl', 'wb') as f:\n",
    "        pickle.dump(test_gps_data[i], f)\n",
    "    #bus数据\n",
    "    with open(f'../Datasets/dataset_template_copy/GPS/bus/{i//10+2000}_{i%10}_gps.pkl', 'wb') as f:\n",
    "        pickle.dump(test_gps_data_bus[i], f)"
   ]
  }
 ],
 "metadata": {
  "kernelspec": {
   "display_name": "base",
   "language": "python",
   "name": "python3"
  },
  "language_info": {
   "codemirror_mode": {
    "name": "ipython",
    "version": 3
   },
   "file_extension": ".py",
   "mimetype": "text/x-python",
   "name": "python",
   "nbconvert_exporter": "python",
   "pygments_lexer": "ipython3",
   "version": "3.10.10"
  },
  "orig_nbformat": 4
 },
 "nbformat": 4,
 "nbformat_minor": 2
}
