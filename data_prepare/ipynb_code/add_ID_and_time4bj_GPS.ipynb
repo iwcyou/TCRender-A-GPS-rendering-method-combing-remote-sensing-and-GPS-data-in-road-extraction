{
 "cells": [
  {
   "cell_type": "markdown",
   "metadata": {},
   "source": [
    "# Add \"ID\" and \"time\" columns for bj GPS data."
   ]
  },
  {
   "cell_type": "code",
   "execution_count": 60,
   "metadata": {},
   "outputs": [],
   "source": [
    "import pickle\n",
    "import os\n",
    "from tqdm import tqdm\n",
    "\n",
    "big_gps_path = '../Datasets/dataset/GPS/beijing_gps_dir_speed_interval_sorted.pkl'\n",
    "with open(big_gps_path, 'rb') as f:\n",
    "    big_data = pickle.load(f)\n",
    "\n",
    "gps_path = '../Datasets/dataset/GPS/patch/'\n",
    "new_gps_path = '../Datasets/dataset_time/GPS/patch/'"
   ]
  },
  {
   "cell_type": "code",
   "execution_count": 61,
   "metadata": {},
   "outputs": [],
   "source": [
    "gps_file_list = os.listdir(gps_path)"
   ]
  },
  {
   "cell_type": "code",
   "execution_count": 62,
   "metadata": {},
   "outputs": [
    {
     "name": "stderr",
     "output_type": "stream",
     "text": [
      "100%|██████████| 348/348 [00:04<00:00, 81.78it/s]"
     ]
    },
    {
     "name": "stdout",
     "output_type": "stream",
     "text": [
      "Done!\n"
     ]
    },
    {
     "name": "stderr",
     "output_type": "stream",
     "text": [
      "\n"
     ]
    }
   ],
   "source": [
    "for file_name in tqdm(gps_file_list):\n",
    "    with open(gps_path + file_name, 'rb') as f:\n",
    "        data = pickle.load(f)\n",
    "    data_new = big_data.iloc[data.index].copy()\n",
    "    data_new[['lat', 'lon']] = data[['lat', 'lon']]\n",
    "    with open(new_gps_path + file_name, 'wb') as f:\n",
    "        pickle.dump(data_new, f)\n",
    "\n",
    "print('Done!')"
   ]
  },
  {
   "cell_type": "code",
   "execution_count": 63,
   "metadata": {},
   "outputs": [
    {
     "data": {
      "text/html": [
       "<div>\n",
       "<style scoped>\n",
       "    .dataframe tbody tr th:only-of-type {\n",
       "        vertical-align: middle;\n",
       "    }\n",
       "\n",
       "    .dataframe tbody tr th {\n",
       "        vertical-align: top;\n",
       "    }\n",
       "\n",
       "    .dataframe thead th {\n",
       "        text-align: right;\n",
       "    }\n",
       "</style>\n",
       "<table border=\"1\" class=\"dataframe\">\n",
       "  <thead>\n",
       "    <tr style=\"text-align: right;\">\n",
       "      <th></th>\n",
       "      <th>ID</th>\n",
       "      <th>time</th>\n",
       "      <th>lat</th>\n",
       "      <th>lon</th>\n",
       "      <th>dir</th>\n",
       "      <th>speed</th>\n",
       "      <th>timeinterval</th>\n",
       "    </tr>\n",
       "  </thead>\n",
       "  <tbody>\n",
       "    <tr>\n",
       "      <th>53056</th>\n",
       "      <td>39</td>\n",
       "      <td>1228723854</td>\n",
       "      <td>116</td>\n",
       "      <td>27</td>\n",
       "      <td>216</td>\n",
       "      <td>0</td>\n",
       "      <td>13.0</td>\n",
       "    </tr>\n",
       "    <tr>\n",
       "      <th>53057</th>\n",
       "      <td>39</td>\n",
       "      <td>1228723863</td>\n",
       "      <td>121</td>\n",
       "      <td>29</td>\n",
       "      <td>222</td>\n",
       "      <td>0</td>\n",
       "      <td>5.0</td>\n",
       "    </tr>\n",
       "    <tr>\n",
       "      <th>53058</th>\n",
       "      <td>39</td>\n",
       "      <td>1228723913</td>\n",
       "      <td>131</td>\n",
       "      <td>31</td>\n",
       "      <td>333</td>\n",
       "      <td>0</td>\n",
       "      <td>53.0</td>\n",
       "    </tr>\n",
       "    <tr>\n",
       "      <th>222000</th>\n",
       "      <td>145</td>\n",
       "      <td>1228060924</td>\n",
       "      <td>948</td>\n",
       "      <td>819</td>\n",
       "      <td>0</td>\n",
       "      <td>0</td>\n",
       "      <td>NaN</td>\n",
       "    </tr>\n",
       "    <tr>\n",
       "      <th>222001</th>\n",
       "      <td>145</td>\n",
       "      <td>1228082771</td>\n",
       "      <td>926</td>\n",
       "      <td>886</td>\n",
       "      <td>45</td>\n",
       "      <td>360</td>\n",
       "      <td>194.0</td>\n",
       "    </tr>\n",
       "    <tr>\n",
       "      <th>...</th>\n",
       "      <td>...</td>\n",
       "      <td>...</td>\n",
       "      <td>...</td>\n",
       "      <td>...</td>\n",
       "      <td>...</td>\n",
       "      <td>...</td>\n",
       "      <td>...</td>\n",
       "    </tr>\n",
       "    <tr>\n",
       "      <th>49425226</th>\n",
       "      <td>27757</td>\n",
       "      <td>1228442312</td>\n",
       "      <td>909</td>\n",
       "      <td>925</td>\n",
       "      <td>36</td>\n",
       "      <td>51</td>\n",
       "      <td>59.5</td>\n",
       "    </tr>\n",
       "    <tr>\n",
       "      <th>49511824</th>\n",
       "      <td>27797</td>\n",
       "      <td>1228393967</td>\n",
       "      <td>952</td>\n",
       "      <td>653</td>\n",
       "      <td>237</td>\n",
       "      <td>0</td>\n",
       "      <td>NaN</td>\n",
       "    </tr>\n",
       "    <tr>\n",
       "      <th>49636852</th>\n",
       "      <td>27876</td>\n",
       "      <td>1228375526</td>\n",
       "      <td>77</td>\n",
       "      <td>396</td>\n",
       "      <td>210</td>\n",
       "      <td>205</td>\n",
       "      <td>73.5</td>\n",
       "    </tr>\n",
       "    <tr>\n",
       "      <th>49636853</th>\n",
       "      <td>27876</td>\n",
       "      <td>1228375528</td>\n",
       "      <td>80</td>\n",
       "      <td>396</td>\n",
       "      <td>201</td>\n",
       "      <td>102</td>\n",
       "      <td>11.0</td>\n",
       "    </tr>\n",
       "    <tr>\n",
       "      <th>49636854</th>\n",
       "      <td>27876</td>\n",
       "      <td>1228375548</td>\n",
       "      <td>87</td>\n",
       "      <td>394</td>\n",
       "      <td>0</td>\n",
       "      <td>0</td>\n",
       "      <td>16.5</td>\n",
       "    </tr>\n",
       "  </tbody>\n",
       "</table>\n",
       "<p>363 rows × 7 columns</p>\n",
       "</div>"
      ],
      "text/plain": [
       "             ID        time  lat  lon  dir  speed  timeinterval\n",
       "53056        39  1228723854  116   27  216      0          13.0\n",
       "53057        39  1228723863  121   29  222      0           5.0\n",
       "53058        39  1228723913  131   31  333      0          53.0\n",
       "222000      145  1228060924  948  819    0      0           NaN\n",
       "222001      145  1228082771  926  886   45    360         194.0\n",
       "...         ...         ...  ...  ...  ...    ...           ...\n",
       "49425226  27757  1228442312  909  925   36     51          59.5\n",
       "49511824  27797  1228393967  952  653  237      0           NaN\n",
       "49636852  27876  1228375526   77  396  210    205          73.5\n",
       "49636853  27876  1228375528   80  396  201    102          11.0\n",
       "49636854  27876  1228375548   87  394    0      0          16.5\n",
       "\n",
       "[363 rows x 7 columns]"
      ]
     },
     "execution_count": 63,
     "metadata": {},
     "output_type": "execute_result"
    }
   ],
   "source": [
    "with open(new_gps_path + '0_8_gps.pkl', 'rb') as f:\n",
    "    data = pickle.load(f)\n",
    "data"
   ]
  },
  {
   "cell_type": "markdown",
   "metadata": {},
   "source": [
    "# Resample bj GPS data and keep the geographical coordinate of lon and lat."
   ]
  },
  {
   "cell_type": "code",
   "execution_count": 13,
   "metadata": {},
   "outputs": [],
   "source": [
    "import pickle\n",
    "import os\n",
    "from tqdm import tqdm\n",
    "\n",
    "big_gps_path = '../../datasets/dataset_bj_time/GPS/beijing_gps_dir_speed_interval_sorted.pkl'\n",
    "with open(big_gps_path, 'rb') as f:\n",
    "    big_data = pickle.load(f)\n",
    "\n",
    "gps_path = '../../datasets/dataset_bj_time/GPS/patch/'\n",
    "new_gps_path = '../../datasets/dataset_bj_time/GPS/patch_geo_coor/'"
   ]
  },
  {
   "cell_type": "code",
   "execution_count": 14,
   "metadata": {},
   "outputs": [],
   "source": [
    "from tqdm import tqdm\n",
    "\n",
    "big_gps_path = '../../datasets/dataset_bj_time/GPS/beijing_gps_dir_speed_interval_sorted.pkl'\n",
    "with open(big_gps_path, 'rb') as f:\n",
    "    big_data = pickle.load(f)\n",
    "\n",
    "gps_path = '../../datasets/dataset_bj_time/GPS/patch/'\n",
    "new_gps_path = '../../datasets/dataset_bj_time/GPS/patch_geo_coor/'"
   ]
  },
  {
   "cell_type": "code",
   "execution_count": 15,
   "metadata": {},
   "outputs": [
    {
     "name": "stdout",
     "output_type": "stream",
     "text": [
      "['33_36_gps.pkl', '1_55_gps.pkl', '30_38_gps.pkl', '4_33_gps.pkl', '30_45_gps.pkl', '30_44_gps.pkl', '31_32_gps.pkl', '1_9_gps.pkl', '20_43_gps.pkl', '10_30_gps.pkl', '27_31_gps.pkl', '35_25_gps.pkl', '18_43_gps.pkl', '7_46_gps.pkl', '16_14_gps.pkl', '29_34_gps.pkl', '34_28_gps.pkl', '29_6_gps.pkl', '18_31_gps.pkl', '30_42_gps.pkl', '36_41_gps.pkl', '8_23_gps.pkl', '7_38_gps.pkl', '24_20_gps.pkl', '21_40_gps.pkl', '21_42_gps.pkl', '12_51_gps.pkl', '21_30_gps.pkl', '35_40_gps.pkl', '5_17_gps.pkl', '13_42_gps.pkl', '19_43_gps.pkl', '23_38_gps.pkl', '2_17_gps.pkl', '33_37_gps.pkl', '19_31_gps.pkl', '21_43_gps.pkl', '5_16_gps.pkl', '18_30_gps.pkl', '41_21_gps.pkl', '6_47_gps.pkl', '29_12_gps.pkl', '19_34_gps.pkl', '38_42_gps.pkl', '6_16_gps.pkl', '0_36_gps.pkl', '10_48_gps.pkl', '12_50_gps.pkl', '6_43_gps.pkl', '35_24_gps.pkl', '27_8_gps.pkl', '11_31_gps.pkl', '19_40_gps.pkl', '13_51_gps.pkl', '15_43_gps.pkl', '14_31_gps.pkl', '35_28_gps.pkl', '4_21_gps.pkl', '20_34_gps.pkl', '20_31_gps.pkl', '12_44_gps.pkl', '35_41_gps.pkl', '7_25_gps.pkl', '23_39_gps.pkl', '19_56_gps.pkl', '7_16_gps.pkl', '22_38_gps.pkl', '36_19_gps.pkl', '28_7_gps.pkl', '11_49_gps.pkl', '31_7_gps.pkl', '9_11_gps.pkl', '15_31_gps.pkl', '9_22_gps.pkl', '3_16_gps.pkl', '2_18_gps.pkl', '7_32_gps.pkl', '1_54_gps.pkl', '37_19_gps.pkl', '17_2_gps.pkl', '17_14_gps.pkl', '34_29_gps.pkl', '39_42_gps.pkl', '26_24_gps.pkl', '21_41_gps.pkl', '6_28_gps.pkl', '8_22_gps.pkl', '8_17_gps.pkl', '0_20_gps.pkl', '31_42_gps.pkl', '4_17_gps.pkl', '16_2_gps.pkl', '9_25_gps.pkl', '1_21_gps.pkl', '40_10_gps.pkl', '32_24_gps.pkl', '16_15_gps.pkl', '0_57_gps.pkl', '21_31_gps.pkl', '1_57_gps.pkl', '5_20_gps.pkl', '20_51_gps.pkl', '18_34_gps.pkl', '19_35_gps.pkl', '14_40_gps.pkl', '40_11_gps.pkl', '1_18_gps.pkl', '27_9_gps.pkl', '0_24_gps.pkl', '0_37_gps.pkl', '18_40_gps.pkl', '18_41_gps.pkl', '20_50_gps.pkl', '26_30_gps.pkl', '28_13_gps.pkl', '1_56_gps.pkl', '21_51_gps.pkl', '26_39_gps.pkl', '5_21_gps.pkl', '18_57_gps.pkl', '22_51_gps.pkl', '2_44_gps.pkl', '12_45_gps.pkl', '7_20_gps.pkl', '8_25_gps.pkl', '1_36_gps.pkl', '0_10_gps.pkl', '12_42_gps.pkl', '20_35_gps.pkl', '30_43_gps.pkl', '17_3_gps.pkl', '44_54_gps.pkl', '6_20_gps.pkl', '45_55_gps.pkl', '15_40_gps.pkl', '37_18_gps.pkl', '38_43_gps.pkl', '28_12_gps.pkl', '6_29_gps.pkl', '31_43_gps.pkl', '7_43_gps.pkl', '10_31_gps.pkl', '31_38_gps.pkl', '13_44_gps.pkl', '14_41_gps.pkl', '6_25_gps.pkl', '4_32_gps.pkl', '39_12_gps.pkl', '7_21_gps.pkl', '29_13_gps.pkl', '34_40_gps.pkl', '25_21_gps.pkl', '43_24_gps.pkl', '15_42_gps.pkl', '7_42_gps.pkl', '40_17_gps.pkl', '30_32_gps.pkl', '37_40_gps.pkl', '6_17_gps.pkl', '0_18_gps.pkl', '0_52_gps.pkl', '37_46_gps.pkl', '45_54_gps.pkl', '5_33_gps.pkl', '5_25_gps.pkl', '11_38_gps.pkl', '26_38_gps.pkl', '11_48_gps.pkl', '7_39_gps.pkl', '34_20_gps.pkl', '22_50_gps.pkl', '0_12_gps.pkl', '27_24_gps.pkl', '5_32_gps.pkl', '1_37_gps.pkl', '2_47_gps.pkl', '33_24_gps.pkl', '10_38_gps.pkl', '19_57_gps.pkl', '19_30_gps.pkl', '2_19_gps.pkl', '0_11_gps.pkl', '6_21_gps.pkl', '31_45_gps.pkl', '7_28_gps.pkl', '4_20_gps.pkl', '12_43_gps.pkl', '1_13_gps.pkl', '2_16_gps.pkl', '0_21_gps.pkl', '6_32_gps.pkl', '8_24_gps.pkl', '27_25_gps.pkl', '0_54_gps.pkl', '5_9_gps.pkl', '26_9_gps.pkl', '8_10_gps.pkl', '37_47_gps.pkl', '14_43_gps.pkl', '20_40_gps.pkl', '1_53_gps.pkl', '6_24_gps.pkl', '0_53_gps.pkl', '37_41_gps.pkl', '40_20_gps.pkl', '41_10_gps.pkl', '6_46_gps.pkl', '36_47_gps.pkl', '18_56_gps.pkl', '31_33_gps.pkl', '1_19_gps.pkl', '36_40_gps.pkl', '29_35_gps.pkl', '41_20_gps.pkl', '14_30_gps.pkl', '14_42_gps.pkl', '32_25_gps.pkl', '7_47_gps.pkl', '28_34_gps.pkl', '1_20_gps.pkl', '33_6_gps.pkl', '17_15_gps.pkl', '4_16_gps.pkl', '13_31_gps.pkl', '0_25_gps.pkl', '18_35_gps.pkl', '38_13_gps.pkl', '34_41_gps.pkl', '30_39_gps.pkl', '9_10_gps.pkl', '43_25_gps.pkl', '3_44_gps.pkl', '1_24_gps.pkl', '35_21_gps.pkl', '26_8_gps.pkl', '41_16_gps.pkl', '33_7_gps.pkl', '35_20_gps.pkl', '19_42_gps.pkl', '41_17_gps.pkl', '20_29_gps.pkl', '2_45_gps.pkl', '4_25_gps.pkl', '40_21_gps.pkl', '32_37_gps.pkl', '18_42_gps.pkl', '39_43_gps.pkl', '6_42_gps.pkl', '30_6_gps.pkl', '1_10_gps.pkl', '9_17_gps.pkl', '20_42_gps.pkl', '28_6_gps.pkl', '20_4_gps.pkl', '5_24_gps.pkl', '23_50_gps.pkl', '11_39_gps.pkl', '31_39_gps.pkl', '0_56_gps.pkl', '7_33_gps.pkl', '8_11_gps.pkl', '36_46_gps.pkl', '0_8_gps.pkl', '3_45_gps.pkl', '32_6_gps.pkl', '32_36_gps.pkl', '3_17_gps.pkl', '12_31_gps.pkl', '1_52_gps.pkl', '21_34_gps.pkl', '32_7_gps.pkl', '0_19_gps.pkl', '36_18_gps.pkl', '1_25_gps.pkl', '6_39_gps.pkl', '20_28_gps.pkl', '1_11_gps.pkl', '21_4_gps.pkl', '21_50_gps.pkl', '3_19_gps.pkl', '7_17_gps.pkl', '21_5_gps.pkl', '2_46_gps.pkl', '10_39_gps.pkl', '1_8_gps.pkl', '7_24_gps.pkl', '5_8_gps.pkl', '34_21_gps.pkl', '20_41_gps.pkl', '34_24_gps.pkl', '25_20_gps.pkl', '33_25_gps.pkl', '16_3_gps.pkl', '3_46_gps.pkl', '31_6_gps.pkl', '21_29_gps.pkl', '39_13_gps.pkl', '21_28_gps.pkl', '35_29_gps.pkl', '21_35_gps.pkl', '10_49_gps.pkl', '0_13_gps.pkl', '27_39_gps.pkl', '30_7_gps.pkl', '15_30_gps.pkl', '4_24_gps.pkl', '27_30_gps.pkl', '20_30_gps.pkl', '20_5_gps.pkl', '12_30_gps.pkl', '22_39_gps.pkl', '6_33_gps.pkl', '9_23_gps.pkl', '3_47_gps.pkl', '4_8_gps.pkl', '34_25_gps.pkl', '30_33_gps.pkl', '24_21_gps.pkl', '0_9_gps.pkl', '26_31_gps.pkl', '4_9_gps.pkl', '6_38_gps.pkl', '42_24_gps.pkl', '15_41_gps.pkl', '31_44_gps.pkl', '27_38_gps.pkl', '9_16_gps.pkl', '13_30_gps.pkl', '0_55_gps.pkl', '11_30_gps.pkl', '23_51_gps.pkl', '44_55_gps.pkl', '19_41_gps.pkl', '13_43_gps.pkl', '42_25_gps.pkl', '1_12_gps.pkl', '29_7_gps.pkl', '7_29_gps.pkl', '9_24_gps.pkl', '41_11_gps.pkl', '13_50_gps.pkl', '8_16_gps.pkl', '13_45_gps.pkl', '26_25_gps.pkl', '3_18_gps.pkl', '40_16_gps.pkl', '38_12_gps.pkl', '28_35_gps.pkl']\n"
     ]
    }
   ],
   "source": [
    "gps_file_list = os.listdir(gps_path)\n",
    "print(gps_file_list)"
   ]
  },
  {
   "cell_type": "code",
   "execution_count": 16,
   "metadata": {},
   "outputs": [
    {
     "name": "stderr",
     "output_type": "stream",
     "text": [
      "100%|██████████| 348/348 [00:06<00:00, 51.13it/s]"
     ]
    },
    {
     "name": "stdout",
     "output_type": "stream",
     "text": [
      "Done!\n"
     ]
    },
    {
     "name": "stderr",
     "output_type": "stream",
     "text": [
      "\n"
     ]
    }
   ],
   "source": [
    "for file_name in tqdm(gps_file_list):\n",
    "    with open(gps_path + file_name, 'rb') as f:\n",
    "        data = pickle.load(f)\n",
    "    data_new = big_data.iloc[data.index].copy()\n",
    "    #Change the\n",
    "    new_order = ['ID', 'time', 'lon', 'lat', 'dir', 'speed', 'timeinterval']\n",
    "    data_new = data_new[new_order]\n",
    "    if not os.path.exists(new_gps_path):\n",
    "        os.makedirs(new_gps_path)\n",
    "    with open(new_gps_path + file_name, 'wb') as f:\n",
    "        pickle.dump(data_new, f)\n",
    "print('Done!')"
   ]
  },
  {
   "cell_type": "code",
   "execution_count": 17,
   "metadata": {},
   "outputs": [
    {
     "data": {
      "text/html": [
       "<div>\n",
       "<style scoped>\n",
       "    .dataframe tbody tr th:only-of-type {\n",
       "        vertical-align: middle;\n",
       "    }\n",
       "\n",
       "    .dataframe tbody tr th {\n",
       "        vertical-align: top;\n",
       "    }\n",
       "\n",
       "    .dataframe thead th {\n",
       "        text-align: right;\n",
       "    }\n",
       "</style>\n",
       "<table border=\"1\" class=\"dataframe\">\n",
       "  <thead>\n",
       "    <tr style=\"text-align: right;\">\n",
       "      <th></th>\n",
       "      <th>ID</th>\n",
       "      <th>time</th>\n",
       "      <th>lon</th>\n",
       "      <th>lat</th>\n",
       "      <th>dir</th>\n",
       "      <th>speed</th>\n",
       "      <th>timeinterval</th>\n",
       "    </tr>\n",
       "  </thead>\n",
       "  <tbody>\n",
       "    <tr>\n",
       "      <th>53056</th>\n",
       "      <td>39</td>\n",
       "      <td>1228723854</td>\n",
       "      <td>116.26516</td>\n",
       "      <td>40.02380</td>\n",
       "      <td>216</td>\n",
       "      <td>0</td>\n",
       "      <td>13.0</td>\n",
       "    </tr>\n",
       "    <tr>\n",
       "      <th>53057</th>\n",
       "      <td>39</td>\n",
       "      <td>1228723863</td>\n",
       "      <td>116.26517</td>\n",
       "      <td>40.02378</td>\n",
       "      <td>222</td>\n",
       "      <td>0</td>\n",
       "      <td>5.0</td>\n",
       "    </tr>\n",
       "    <tr>\n",
       "      <th>53058</th>\n",
       "      <td>39</td>\n",
       "      <td>1228723913</td>\n",
       "      <td>116.26518</td>\n",
       "      <td>40.02374</td>\n",
       "      <td>333</td>\n",
       "      <td>0</td>\n",
       "      <td>53.0</td>\n",
       "    </tr>\n",
       "    <tr>\n",
       "      <th>222000</th>\n",
       "      <td>145</td>\n",
       "      <td>1228060924</td>\n",
       "      <td>116.26941</td>\n",
       "      <td>40.02038</td>\n",
       "      <td>0</td>\n",
       "      <td>0</td>\n",
       "      <td>NaN</td>\n",
       "    </tr>\n",
       "    <tr>\n",
       "      <th>222001</th>\n",
       "      <td>145</td>\n",
       "      <td>1228082771</td>\n",
       "      <td>116.26977</td>\n",
       "      <td>40.02047</td>\n",
       "      <td>45</td>\n",
       "      <td>360</td>\n",
       "      <td>194.0</td>\n",
       "    </tr>\n",
       "    <tr>\n",
       "      <th>...</th>\n",
       "      <td>...</td>\n",
       "      <td>...</td>\n",
       "      <td>...</td>\n",
       "      <td>...</td>\n",
       "      <td>...</td>\n",
       "      <td>...</td>\n",
       "      <td>...</td>\n",
       "    </tr>\n",
       "    <tr>\n",
       "      <th>49425226</th>\n",
       "      <td>27757</td>\n",
       "      <td>1228442312</td>\n",
       "      <td>116.26998</td>\n",
       "      <td>40.02054</td>\n",
       "      <td>36</td>\n",
       "      <td>51</td>\n",
       "      <td>59.5</td>\n",
       "    </tr>\n",
       "    <tr>\n",
       "      <th>49511824</th>\n",
       "      <td>27797</td>\n",
       "      <td>1228393967</td>\n",
       "      <td>116.26852</td>\n",
       "      <td>40.02036</td>\n",
       "      <td>237</td>\n",
       "      <td>0</td>\n",
       "      <td>NaN</td>\n",
       "    </tr>\n",
       "    <tr>\n",
       "      <th>49636852</th>\n",
       "      <td>27876</td>\n",
       "      <td>1228375526</td>\n",
       "      <td>116.26714</td>\n",
       "      <td>40.02396</td>\n",
       "      <td>210</td>\n",
       "      <td>205</td>\n",
       "      <td>73.5</td>\n",
       "    </tr>\n",
       "    <tr>\n",
       "      <th>49636853</th>\n",
       "      <td>27876</td>\n",
       "      <td>1228375528</td>\n",
       "      <td>116.26714</td>\n",
       "      <td>40.02395</td>\n",
       "      <td>201</td>\n",
       "      <td>102</td>\n",
       "      <td>11.0</td>\n",
       "    </tr>\n",
       "    <tr>\n",
       "      <th>49636854</th>\n",
       "      <td>27876</td>\n",
       "      <td>1228375548</td>\n",
       "      <td>116.26713</td>\n",
       "      <td>40.02392</td>\n",
       "      <td>0</td>\n",
       "      <td>0</td>\n",
       "      <td>16.5</td>\n",
       "    </tr>\n",
       "  </tbody>\n",
       "</table>\n",
       "<p>363 rows × 7 columns</p>\n",
       "</div>"
      ],
      "text/plain": [
       "             ID        time        lon       lat  dir  speed  timeinterval\n",
       "53056        39  1228723854  116.26516  40.02380  216      0          13.0\n",
       "53057        39  1228723863  116.26517  40.02378  222      0           5.0\n",
       "53058        39  1228723913  116.26518  40.02374  333      0          53.0\n",
       "222000      145  1228060924  116.26941  40.02038    0      0           NaN\n",
       "222001      145  1228082771  116.26977  40.02047   45    360         194.0\n",
       "...         ...         ...        ...       ...  ...    ...           ...\n",
       "49425226  27757  1228442312  116.26998  40.02054   36     51          59.5\n",
       "49511824  27797  1228393967  116.26852  40.02036  237      0           NaN\n",
       "49636852  27876  1228375526  116.26714  40.02396  210    205          73.5\n",
       "49636853  27876  1228375528  116.26714  40.02395  201    102          11.0\n",
       "49636854  27876  1228375548  116.26713  40.02392    0      0          16.5\n",
       "\n",
       "[363 rows x 7 columns]"
      ]
     },
     "execution_count": 17,
     "metadata": {},
     "output_type": "execute_result"
    }
   ],
   "source": [
    "with open(new_gps_path + '0_8_gps.pkl', 'rb') as f:\n",
    "    data = pickle.load(f)\n",
    "data"
   ]
  },
  {
   "cell_type": "code",
   "execution_count": null,
   "metadata": {},
   "outputs": [],
   "source": []
  }
 ],
 "metadata": {
  "kernelspec": {
   "display_name": "base",
   "language": "python",
   "name": "python3"
  },
  "language_info": {
   "codemirror_mode": {
    "name": "ipython",
    "version": 3
   },
   "file_extension": ".py",
   "mimetype": "text/x-python",
   "name": "python",
   "nbconvert_exporter": "python",
   "pygments_lexer": "ipython3",
   "version": "3.12.3"
  }
 },
 "nbformat": 4,
 "nbformat_minor": 2
}
