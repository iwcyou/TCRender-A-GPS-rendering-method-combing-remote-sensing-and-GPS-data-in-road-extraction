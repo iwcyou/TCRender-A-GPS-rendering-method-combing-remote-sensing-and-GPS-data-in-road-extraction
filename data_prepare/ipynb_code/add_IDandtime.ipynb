{
 "cells": [
  {
   "cell_type": "markdown",
   "metadata": {},
   "source": [
    "# 给孙的数据集加上’ID‘、’time‘列"
   ]
  },
  {
   "cell_type": "code",
   "execution_count": 60,
   "metadata": {},
   "outputs": [],
   "source": [
    "import pickle\n",
    "import os\n",
    "from tqdm import tqdm\n",
    "\n",
    "big_gps_path = '../Datasets/dataset/GPS/beijing_gps_dir_speed_interval_sorted.pkl'\n",
    "with open(big_gps_path, 'rb') as f:\n",
    "    big_data = pickle.load(f)\n",
    "\n",
    "gps_path = '../Datasets/dataset/GPS/patch/'\n",
    "new_gps_path = '../Datasets/dataset_time/GPS/patch/'"
   ]
  },
  {
   "cell_type": "code",
   "execution_count": 61,
   "metadata": {},
   "outputs": [],
   "source": [
    "gps_file_list = os.listdir(gps_path)"
   ]
  },
  {
   "cell_type": "code",
   "execution_count": 62,
   "metadata": {},
   "outputs": [
    {
     "name": "stderr",
     "output_type": "stream",
     "text": [
      "100%|██████████| 348/348 [00:04<00:00, 81.78it/s]"
     ]
    },
    {
     "name": "stdout",
     "output_type": "stream",
     "text": [
      "Done!\n"
     ]
    },
    {
     "name": "stderr",
     "output_type": "stream",
     "text": [
      "\n"
     ]
    }
   ],
   "source": [
    "for file_name in tqdm(gps_file_list):\n",
    "    with open(gps_path + file_name, 'rb') as f:\n",
    "        data = pickle.load(f)\n",
    "    data_new = big_data.iloc[data.index].copy()\n",
    "    data_new[['lat', 'lon']] = data[['lat', 'lon']]\n",
    "    with open(new_gps_path + file_name, 'wb') as f:\n",
    "        pickle.dump(data_new, f)\n",
    "\n",
    "print('Done!')"
   ]
  },
  {
   "cell_type": "code",
   "execution_count": 63,
   "metadata": {},
   "outputs": [
    {
     "data": {
      "text/html": [
       "<div>\n",
       "<style scoped>\n",
       "    .dataframe tbody tr th:only-of-type {\n",
       "        vertical-align: middle;\n",
       "    }\n",
       "\n",
       "    .dataframe tbody tr th {\n",
       "        vertical-align: top;\n",
       "    }\n",
       "\n",
       "    .dataframe thead th {\n",
       "        text-align: right;\n",
       "    }\n",
       "</style>\n",
       "<table border=\"1\" class=\"dataframe\">\n",
       "  <thead>\n",
       "    <tr style=\"text-align: right;\">\n",
       "      <th></th>\n",
       "      <th>ID</th>\n",
       "      <th>time</th>\n",
       "      <th>lat</th>\n",
       "      <th>lon</th>\n",
       "      <th>dir</th>\n",
       "      <th>speed</th>\n",
       "      <th>timeinterval</th>\n",
       "    </tr>\n",
       "  </thead>\n",
       "  <tbody>\n",
       "    <tr>\n",
       "      <th>53056</th>\n",
       "      <td>39</td>\n",
       "      <td>1228723854</td>\n",
       "      <td>116</td>\n",
       "      <td>27</td>\n",
       "      <td>216</td>\n",
       "      <td>0</td>\n",
       "      <td>13.0</td>\n",
       "    </tr>\n",
       "    <tr>\n",
       "      <th>53057</th>\n",
       "      <td>39</td>\n",
       "      <td>1228723863</td>\n",
       "      <td>121</td>\n",
       "      <td>29</td>\n",
       "      <td>222</td>\n",
       "      <td>0</td>\n",
       "      <td>5.0</td>\n",
       "    </tr>\n",
       "    <tr>\n",
       "      <th>53058</th>\n",
       "      <td>39</td>\n",
       "      <td>1228723913</td>\n",
       "      <td>131</td>\n",
       "      <td>31</td>\n",
       "      <td>333</td>\n",
       "      <td>0</td>\n",
       "      <td>53.0</td>\n",
       "    </tr>\n",
       "    <tr>\n",
       "      <th>222000</th>\n",
       "      <td>145</td>\n",
       "      <td>1228060924</td>\n",
       "      <td>948</td>\n",
       "      <td>819</td>\n",
       "      <td>0</td>\n",
       "      <td>0</td>\n",
       "      <td>NaN</td>\n",
       "    </tr>\n",
       "    <tr>\n",
       "      <th>222001</th>\n",
       "      <td>145</td>\n",
       "      <td>1228082771</td>\n",
       "      <td>926</td>\n",
       "      <td>886</td>\n",
       "      <td>45</td>\n",
       "      <td>360</td>\n",
       "      <td>194.0</td>\n",
       "    </tr>\n",
       "    <tr>\n",
       "      <th>...</th>\n",
       "      <td>...</td>\n",
       "      <td>...</td>\n",
       "      <td>...</td>\n",
       "      <td>...</td>\n",
       "      <td>...</td>\n",
       "      <td>...</td>\n",
       "      <td>...</td>\n",
       "    </tr>\n",
       "    <tr>\n",
       "      <th>49425226</th>\n",
       "      <td>27757</td>\n",
       "      <td>1228442312</td>\n",
       "      <td>909</td>\n",
       "      <td>925</td>\n",
       "      <td>36</td>\n",
       "      <td>51</td>\n",
       "      <td>59.5</td>\n",
       "    </tr>\n",
       "    <tr>\n",
       "      <th>49511824</th>\n",
       "      <td>27797</td>\n",
       "      <td>1228393967</td>\n",
       "      <td>952</td>\n",
       "      <td>653</td>\n",
       "      <td>237</td>\n",
       "      <td>0</td>\n",
       "      <td>NaN</td>\n",
       "    </tr>\n",
       "    <tr>\n",
       "      <th>49636852</th>\n",
       "      <td>27876</td>\n",
       "      <td>1228375526</td>\n",
       "      <td>77</td>\n",
       "      <td>396</td>\n",
       "      <td>210</td>\n",
       "      <td>205</td>\n",
       "      <td>73.5</td>\n",
       "    </tr>\n",
       "    <tr>\n",
       "      <th>49636853</th>\n",
       "      <td>27876</td>\n",
       "      <td>1228375528</td>\n",
       "      <td>80</td>\n",
       "      <td>396</td>\n",
       "      <td>201</td>\n",
       "      <td>102</td>\n",
       "      <td>11.0</td>\n",
       "    </tr>\n",
       "    <tr>\n",
       "      <th>49636854</th>\n",
       "      <td>27876</td>\n",
       "      <td>1228375548</td>\n",
       "      <td>87</td>\n",
       "      <td>394</td>\n",
       "      <td>0</td>\n",
       "      <td>0</td>\n",
       "      <td>16.5</td>\n",
       "    </tr>\n",
       "  </tbody>\n",
       "</table>\n",
       "<p>363 rows × 7 columns</p>\n",
       "</div>"
      ],
      "text/plain": [
       "             ID        time  lat  lon  dir  speed  timeinterval\n",
       "53056        39  1228723854  116   27  216      0          13.0\n",
       "53057        39  1228723863  121   29  222      0           5.0\n",
       "53058        39  1228723913  131   31  333      0          53.0\n",
       "222000      145  1228060924  948  819    0      0           NaN\n",
       "222001      145  1228082771  926  886   45    360         194.0\n",
       "...         ...         ...  ...  ...  ...    ...           ...\n",
       "49425226  27757  1228442312  909  925   36     51          59.5\n",
       "49511824  27797  1228393967  952  653  237      0           NaN\n",
       "49636852  27876  1228375526   77  396  210    205          73.5\n",
       "49636853  27876  1228375528   80  396  201    102          11.0\n",
       "49636854  27876  1228375548   87  394    0      0          16.5\n",
       "\n",
       "[363 rows x 7 columns]"
      ]
     },
     "execution_count": 63,
     "metadata": {},
     "output_type": "execute_result"
    }
   ],
   "source": [
    "with open(new_gps_path + '0_8_gps.pkl', 'rb') as f:\n",
    "    data = pickle.load(f)\n",
    "data"
   ]
  }
 ],
 "metadata": {
  "kernelspec": {
   "display_name": "base",
   "language": "python",
   "name": "python3"
  },
  "language_info": {
   "codemirror_mode": {
    "name": "ipython",
    "version": 3
   },
   "file_extension": ".py",
   "mimetype": "text/x-python",
   "name": "python",
   "nbconvert_exporter": "python",
   "pygments_lexer": "ipython3",
   "version": "3.8.16"
  }
 },
 "nbformat": 4,
 "nbformat_minor": 2
}
