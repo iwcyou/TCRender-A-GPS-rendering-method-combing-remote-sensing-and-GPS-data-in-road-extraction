{
 "cells": [
  {
   "cell_type": "markdown",
   "metadata": {},
   "source": [
    "# Crop images and filter GPS points by coordinate range"
   ]
  },
  {
   "cell_type": "code",
   "execution_count": 26,
   "metadata": {},
   "outputs": [],
   "source": [
    "from PIL import Image, ImageFile\n",
    "import cv2\n",
    "import numpy as np\n",
    "import pickle\n",
    "import sys\n",
    "import os\n",
    "sys.path.append(\"../\")\n",
    "from sample_by_coordinate import SampleByCoordinate\n",
    "Image.MAX_IMAGE_PIXELS = None # Disable DecompressionBombError\n",
    "ImageFile.LOAD_TRUNCATED_IMAGES = True # Disable OSError: image file is truncated\n",
    "import importlib\n",
    "from tqdm import tqdm"
   ]
  },
  {
   "cell_type": "code",
   "execution_count": 27,
   "metadata": {},
   "outputs": [],
   "source": [
    "#文件路径\n",
    "\n",
    "expressway_path = \"../Datasets/mask_all/expressway.png\"\n",
    "national_road_path = \"../Datasets/mask_all/national_road.png\"\n",
    "province_road_path = \"../Datasets/mask_all/province_road.png\"\n",
    "road_class2_path = \"../Datasets/mask_all/road_class2.png\"\n",
    "road_class3_path = \"../Datasets/mask_all/road_class3.png\"\n",
    "road_class4_path = \"../Datasets/mask_all/road_class4.png\"\n",
    "urban_ringline_path = \"../Datasets/mask_all/urban_ringline.png\"\n",
    "\n",
    "taxi_gps_path = \"../Datasets/GPS_data/taxi/GPS_taxi_2.0.pkl\"\n",
    "bus_gps_path = \"../Datasets/GPS_data/bus/GPS_bus_2.0.pkl\"\n",
    "\n",
    "#孙论文的数据集\n",
    "gps_other_path = \"../Datasets/dataset_time/GPS/beijing_gps_dir_speed_interval_sorted.pkl\"\n",
    "\n",
    "#测试用数据\n",
    "# train_path = \"../Datasets/test_6/22.520000-113.920000.png\"\n",
    "# test_path = \"../Datasets/test_6/22.520000-113.920000.png\"\n",
    "# mask_path = \"../Datasets/test_6/22.520000-113.920000.png\"\n",
    "# taxi_gps_path = \"../Datasets/GPS_data/test.pkl\"\n",
    "# bus_gps_path = \"../Datasets/GPS_data/test.pkl\""
   ]
  },
  {
   "cell_type": "code",
   "execution_count": 28,
   "metadata": {},
   "outputs": [],
   "source": [
    "#读取文件\n",
    "\n",
    "# mask_img = Image.open(province_road_path)\n",
    "# mask_img = cv2.cvtColor(np.array(mask_img), cv2.COLOR_RGBA2BGRA)\n",
    "\n",
    "with open(taxi_gps_path, 'rb') as f:\n",
    "        gps_data = pickle.load(f, encoding='bytes')"
   ]
  },
  {
   "cell_type": "code",
   "execution_count": 29,
   "metadata": {},
   "outputs": [
    {
     "name": "stdout",
     "output_type": "stream",
     "text": [
      "1334 \n",
      " ['12_0_coor.txt', '12_21_coor2.txt', '22_4_coor2.txt', '1_27_coor2.txt', '21_28_coor2.txt', '11_11_coor.txt', '5_25_coor.txt', '15_21_coor.txt', '7_21_coor2.txt', '6_24_coor2.txt', '20_21_coor2.txt', '3_27_coor2.txt', '8_14_coor2.txt', '15_10_coor2.txt', '16_3_coor.txt', '15_26_coor2.txt', '22_25_coor.txt', '18_20_coor.txt', '15_20_coor2.txt', '0_23_coor2.txt', '8_15_coor2.txt', '20_14_coor.txt', '16_21_coor.txt', '5_25_coor2.txt', '9_21_coor2.txt', '0_5_coor2.txt', '3_23_coor.txt', '20_19_coor.txt', '6_23_coor2.txt', '14_20_coor2.txt', '16_23_coor2.txt', '20_23_coor2.txt', '10_5_coor.txt', '3_8_coor2.txt', '18_18_coor2.txt', '13_19_coor.txt', '22_1_coor2.txt', '20_21_coor.txt', '20_3_coor.txt', '21_10_coor2.txt', '18_23_coor2.txt', '12_9_coor2.txt', '19_20_coor.txt', '3_25_coor.txt', '1_2_coor.txt', '22_2_coor.txt', '14_19_coor.txt', '21_6_coor.txt', '19_9_coor.txt', '17_28_coor.txt', '12_11_coor2.txt', '20_25_coor2.txt', '21_22_coor.txt', '7_4_coor2.txt', '7_16_coor2.txt', '18_19_coor.txt', '4_11_coor2.txt', '2_24_coor2.txt', '20_2_coor2.txt', '22_15_coor.txt', '16_20_coor.txt', '14_28_coor.txt', '9_25_coor.txt', '22_18_coor2.txt', '2_18_coor.txt', '15_25_coor.txt', '20_8_coor2.txt', '5_23_coor2.txt', '14_21_coor2.txt', '0_27_coor.txt', '1_26_coor.txt', '17_1_coor.txt', '4_3_coor2.txt', '11_17_coor2.txt', '18_7_coor2.txt', '8_21_coor.txt', '22_8_coor.txt', '20_5_coor2.txt', '0_7_coor2.txt', '8_16_coor2.txt', '16_17_coor.txt', '5_16_coor.txt', '15_23_coor2.txt', '13_9_coor2.txt', '18_8_coor2.txt', '3_19_coor2.txt', '11_7_coor.txt', '12_13_coor2.txt', '7_20_coor.txt', '17_19_coor.txt', '21_19_coor2.txt', '22_5_coor.txt', '10_23_coor2.txt', '8_4_coor.txt', '9_19_coor.txt', '21_5_coor2.txt', '7_0_coor.txt', '17_5_coor.txt', '12_4_coor2.txt', '6_21_coor.txt', '6_26_coor2.txt', '1_15_coor.txt', '1_0_coor.txt', '6_2_coor.txt', '9_0_coor.txt', '6_14_coor.txt', '0_28_coor.txt', '15_24_coor.txt', '4_9_coor.txt', '4_16_coor.txt', '2_17_coor2.txt', '9_12_coor.txt', '5_1_coor.txt', '17_11_coor2.txt', '20_18_coor.txt', '21_21_coor2.txt', '13_23_coor.txt', '10_6_coor2.txt', '17_7_coor2.txt', '21_13_coor.txt', '22_9_coor.txt', '20_15_coor.txt', '8_20_coor2.txt', '5_13_coor.txt', '20_4_coor2.txt', '12_17_coor.txt', '18_28_coor2.txt', '2_6_coor2.txt', '0_20_coor.txt', '7_16_coor.txt', '9_17_coor.txt', '4_23_coor.txt', '11_9_coor.txt', '5_6_coor.txt', '17_22_coor2.txt', '14_2_coor.txt', '15_28_coor.txt', '21_13_coor2.txt', '3_19_coor.txt', '18_14_coor.txt', '17_17_coor.txt', '11_21_coor.txt', '1_7_coor.txt', '12_28_coor.txt', '2_12_coor.txt', '15_8_coor.txt', '10_27_coor.txt', '16_13_coor.txt', '6_17_coor.txt', '4_27_coor2.txt', '4_13_coor2.txt', '2_13_coor.txt', '2_5_coor2.txt', '20_19_coor2.txt', '9_3_coor.txt', '9_8_coor2.txt', '16_16_coor2.txt', '0_7_coor.txt', '18_20_coor2.txt', '13_0_coor2.txt', '7_28_coor.txt', '18_9_coor.txt', '0_20_coor2.txt', '17_21_coor2.txt', '12_21_coor.txt', '7_8_coor2.txt', '8_9_coor.txt', '13_1_coor2.txt', '1_3_coor.txt', '5_8_coor.txt', '14_14_coor.txt', '12_7_coor2.txt', '3_15_coor.txt', '3_5_coor.txt', '0_25_coor2.txt', '20_15_coor2.txt', '10_7_coor.txt', '22_7_coor2.txt', '12_13_coor.txt', '12_25_coor.txt', '17_22_coor.txt', '2_20_coor2.txt', '6_6_coor2.txt', '2_10_coor2.txt', '11_26_coor2.txt', '13_21_coor2.txt', '19_21_coor.txt', '22_9_coor2.txt', '5_19_coor.txt', '5_2_coor.txt', '16_20_coor2.txt', '10_18_coor2.txt', '16_18_coor.txt', '3_3_coor.txt', '10_20_coor2.txt', '16_27_coor.txt', '7_0_coor2.txt', '9_27_coor.txt', '0_24_coor2.txt', '18_26_coor2.txt', '14_23_coor2.txt', '9_27_coor2.txt', '16_5_coor.txt', '7_20_coor2.txt', '1_21_coor2.txt', '18_5_coor.txt', '2_5_coor.txt', '12_15_coor.txt', '12_14_coor2.txt', '7_9_coor.txt', '14_27_coor2.txt', '16_7_coor2.txt', '0_14_coor.txt', '10_26_coor.txt', '9_18_coor.txt', '8_16_coor.txt', '4_15_coor2.txt', '8_25_coor2.txt', '18_12_coor.txt', '15_27_coor2.txt', '14_8_coor2.txt', '9_5_coor2.txt', '13_3_coor2.txt', '10_16_coor.txt', '22_28_coor2.txt', '11_27_coor2.txt', '13_11_coor2.txt', '10_13_coor.txt', '12_19_coor2.txt', '11_25_coor.txt', '5_26_coor2.txt', '14_13_coor.txt', '11_24_coor.txt', '11_20_coor2.txt', '5_9_coor.txt', '11_28_coor2.txt', '10_21_coor.txt', '3_21_coor2.txt', '20_12_coor.txt', '9_15_coor.txt', '12_12_coor2.txt', '14_11_coor.txt', '18_28_coor.txt', '22_16_coor2.txt', '19_20_coor2.txt', '14_23_coor.txt', '18_2_coor2.txt', '7_2_coor.txt', '1_27_coor.txt', '21_16_coor.txt', '5_24_coor.txt', '6_27_coor.txt', '8_13_coor2.txt', '14_3_coor2.txt', '5_10_coor2.txt', '7_25_coor.txt', '0_8_coor.txt', '17_1_coor2.txt', '9_12_coor2.txt', '18_13_coor2.txt', '1_28_coor2.txt', '10_5_coor2.txt', '20_26_coor.txt', '2_3_coor.txt', '13_1_coor.txt', '18_13_coor.txt', '10_8_coor2.txt', '20_27_coor2.txt', '9_16_coor.txt', '18_12_coor2.txt', '7_3_coor.txt', '14_21_coor.txt', '19_26_coor.txt', '8_3_coor.txt', '7_6_coor.txt', '17_20_coor.txt', '12_23_coor.txt', '10_12_coor2.txt', '6_0_coor.txt', '22_11_coor.txt', '7_9_coor2.txt', '19_25_coor.txt', '21_22_coor2.txt', '15_7_coor.txt', '20_12_coor2.txt', '10_19_coor2.txt', '13_16_coor2.txt', '3_12_coor2.txt', '8_28_coor2.txt', '21_0_coor2.txt', '19_8_coor2.txt', '10_7_coor2.txt', '22_13_coor.txt', '1_23_coor2.txt', '10_14_coor.txt', '8_9_coor2.txt', '17_12_coor2.txt', '22_27_coor.txt', '6_14_coor2.txt', '18_21_coor.txt', '1_9_coor.txt', '13_8_coor2.txt', '2_7_coor.txt', '0_8_coor2.txt', '6_27_coor2.txt', '17_11_coor.txt', '2_21_coor.txt', '10_9_coor.txt', '19_3_coor2.txt', '5_17_coor.txt', '0_15_coor.txt', '8_22_coor.txt', '21_20_coor2.txt', '22_25_coor2.txt', '12_27_coor.txt', '3_0_coor2.txt', '15_6_coor2.txt', '2_24_coor.txt', '18_24_coor.txt', '2_9_coor2.txt', '21_26_coor.txt', '0_12_coor.txt', '21_18_coor.txt', '22_4_coor.txt', '19_7_coor2.txt', '11_25_coor2.txt', '3_2_coor.txt', '15_28_coor2.txt', '18_22_coor2.txt', '11_1_coor2.txt', '5_15_coor.txt', '21_0_coor.txt', '20_23_coor.txt', '19_5_coor2.txt', '16_25_coor2.txt', '18_6_coor.txt', '13_10_coor.txt', '20_16_coor.txt', '14_24_coor.txt', '12_24_coor.txt', '6_8_coor2.txt', '19_1_coor.txt', '12_5_coor2.txt', '18_21_coor2.txt', '20_26_coor2.txt', '2_14_coor.txt', '15_19_coor2.txt', '21_6_coor2.txt', '11_11_coor2.txt', '17_3_coor2.txt', '5_7_coor2.txt', '3_11_coor.txt', '1_6_coor.txt', '22_24_coor2.txt', '5_4_coor.txt', '21_14_coor2.txt', '9_22_coor2.txt', '10_17_coor.txt', '22_10_coor.txt', '3_16_coor2.txt', '21_24_coor.txt', '7_15_coor.txt', '16_18_coor2.txt', '22_27_coor2.txt', '15_9_coor.txt', '3_27_coor.txt', '4_18_coor2.txt', '5_3_coor.txt', '19_2_coor2.txt', '6_11_coor.txt', '16_28_coor.txt', '7_6_coor2.txt', '5_5_coor2.txt', '20_20_coor.txt', '2_27_coor.txt', '16_25_coor.txt', '17_8_coor2.txt', '1_24_coor2.txt', '4_25_coor2.txt', '22_7_coor.txt', '0_17_coor2.txt', '5_1_coor2.txt', '20_5_coor.txt', '17_18_coor2.txt', '21_17_coor2.txt', '20_0_coor.txt', '20_24_coor.txt', '20_11_coor2.txt', '21_11_coor2.txt', '8_21_coor2.txt', '2_18_coor2.txt', '2_21_coor2.txt', '7_11_coor2.txt', '21_2_coor2.txt', '16_1_coor.txt', '8_10_coor.txt', '17_7_coor.txt', '6_4_coor2.txt', '17_9_coor.txt', '0_19_coor2.txt', '13_4_coor2.txt', '1_3_coor2.txt', '11_4_coor2.txt', '3_8_coor.txt', '6_8_coor.txt', '11_22_coor2.txt', '15_27_coor.txt', '11_16_coor.txt', '13_20_coor.txt', '19_27_coor.txt', '21_17_coor.txt', '7_18_coor2.txt', '15_3_coor.txt', '18_16_coor2.txt', '19_16_coor2.txt', '0_26_coor2.txt', '20_28_coor.txt', '19_13_coor2.txt', '16_22_coor2.txt', '1_10_coor2.txt', '0_10_coor.txt', '13_14_coor2.txt', '16_9_coor2.txt', '18_1_coor2.txt', '14_4_coor.txt', '17_13_coor.txt', '22_20_coor.txt', '16_27_coor2.txt', '4_11_coor.txt', '13_4_coor.txt', '7_22_coor2.txt', '19_0_coor.txt', '18_2_coor.txt', '17_0_coor2.txt', '21_25_coor.txt', '18_3_coor2.txt', '0_16_coor.txt', '11_23_coor2.txt', '15_16_coor2.txt', '18_17_coor2.txt', '21_18_coor2.txt', '17_4_coor.txt', '15_12_coor.txt', '22_14_coor2.txt', '21_8_coor.txt', '4_14_coor.txt', '1_11_coor2.txt', '6_23_coor.txt', '2_20_coor.txt', '19_11_coor.txt', '15_24_coor2.txt', '12_20_coor.txt', '14_7_coor.txt', '10_23_coor.txt', '11_12_coor2.txt', '2_1_coor.txt', '1_13_coor2.txt', '12_6_coor2.txt', '19_21_coor2.txt', '20_28_coor2.txt', '7_26_coor2.txt', '4_24_coor2.txt', '19_12_coor2.txt', '10_15_coor2.txt', '3_12_coor.txt', '18_5_coor2.txt', '11_19_coor.txt', '13_15_coor2.txt', '11_14_coor.txt', '5_13_coor2.txt', '6_21_coor2.txt', '20_22_coor.txt', '9_11_coor.txt', '13_18_coor.txt', '9_1_coor2.txt', '0_13_coor.txt', '16_10_coor2.txt', '2_2_coor2.txt', '7_8_coor.txt', '2_23_coor.txt', '9_9_coor2.txt', '3_20_coor.txt', '22_12_coor.txt', '15_2_coor.txt', '22_8_coor2.txt', '4_28_coor2.txt', '6_19_coor.txt', '2_22_coor2.txt', '3_20_coor2.txt', '3_23_coor2.txt', '17_25_coor.txt', '16_16_coor.txt', '9_16_coor2.txt', '13_11_coor.txt', '20_4_coor.txt', '19_22_coor.txt', '15_11_coor.txt', '4_17_coor2.txt', '0_1_coor2.txt', '10_19_coor.txt', '4_1_coor2.txt', '15_14_coor.txt', '20_9_coor2.txt', '9_7_coor2.txt', '0_4_coor.txt', '3_1_coor.txt', '12_28_coor2.txt', '2_25_coor2.txt', '16_6_coor.txt', '21_14_coor.txt', '6_16_coor.txt', '9_18_coor2.txt', '2_1_coor2.txt', '4_2_coor.txt', '3_28_coor2.txt', '5_22_coor2.txt', '18_27_coor2.txt', '1_24_coor.txt', '0_3_coor.txt', '10_24_coor2.txt', '12_23_coor2.txt', '10_8_coor.txt', '2_8_coor2.txt', '14_18_coor.txt', '17_17_coor2.txt', '13_9_coor.txt', '11_8_coor2.txt', '22_0_coor.txt', '4_1_coor.txt', '3_24_coor.txt', '3_11_coor2.txt', '2_23_coor2.txt', '1_7_coor2.txt', '21_23_coor2.txt', '11_19_coor2.txt', '12_11_coor.txt', '18_24_coor2.txt', '15_23_coor.txt', '14_9_coor2.txt', '16_10_coor.txt', '2_25_coor.txt', '21_16_coor2.txt', '4_7_coor2.txt', '19_24_coor.txt', '16_24_coor.txt', '8_11_coor.txt', '0_6_coor.txt', '16_15_coor.txt', '6_12_coor2.txt', '10_25_coor.txt', '22_11_coor2.txt', '14_1_coor.txt', '19_0_coor2.txt', '22_13_coor2.txt', '11_13_coor2.txt', '11_1_coor.txt', '12_16_coor.txt', '4_25_coor.txt', '4_10_coor2.txt', '18_16_coor.txt', '6_19_coor2.txt', '4_10_coor.txt', '14_6_coor2.txt', '22_15_coor2.txt', '7_12_coor2.txt', '19_22_coor2.txt', '21_26_coor2.txt', '16_3_coor2.txt', '22_14_coor.txt', '12_2_coor2.txt', '13_25_coor.txt', '20_16_coor2.txt', '6_9_coor.txt', '14_13_coor2.txt', '13_26_coor2.txt', '2_14_coor2.txt', '20_0_coor2.txt', '22_23_coor2.txt', '7_27_coor2.txt', '14_17_coor.txt', '17_28_coor2.txt', '2_6_coor.txt', '17_27_coor2.txt', '4_23_coor2.txt', '21_21_coor.txt', '2_3_coor2.txt', '1_9_coor2.txt', '6_24_coor.txt', '2_26_coor2.txt', '21_5_coor.txt', '7_22_coor.txt', '16_8_coor.txt', '3_7_coor.txt', '1_16_coor2.txt', '3_10_coor.txt', '19_15_coor2.txt', '12_19_coor.txt', '16_11_coor2.txt', '5_28_coor2.txt', '1_20_coor2.txt', '12_9_coor.txt', '1_6_coor2.txt', '3_9_coor.txt', '17_27_coor.txt', '18_19_coor2.txt', '2_12_coor2.txt', '18_0_coor.txt', '9_1_coor.txt', '4_26_coor.txt', '1_14_coor2.txt', '14_0_coor.txt', '22_0_coor2.txt', '20_14_coor2.txt', '19_18_coor2.txt', '14_15_coor.txt', '13_5_coor.txt', '7_24_coor2.txt', '7_17_coor.txt', '4_26_coor2.txt', '5_20_coor2.txt', '15_5_coor.txt', '20_1_coor2.txt', '12_2_coor.txt', '5_27_coor.txt', '6_20_coor2.txt', '10_27_coor2.txt', '9_10_coor2.txt', '8_4_coor2.txt', '6_25_coor.txt', '4_15_coor.txt', '9_20_coor.txt', '11_27_coor.txt', '0_21_coor.txt', '5_9_coor2.txt', '4_20_coor.txt', '2_9_coor.txt', '2_13_coor2.txt', '12_18_coor.txt', '5_15_coor2.txt', '14_14_coor2.txt', '7_11_coor.txt', '17_12_coor.txt', '13_18_coor2.txt', '18_7_coor.txt', '10_9_coor2.txt', '7_21_coor.txt', '13_24_coor.txt', '13_27_coor2.txt', '18_4_coor.txt', '0_0_coor2.txt', '14_16_coor.txt', '11_15_coor.txt', '3_21_coor.txt', '19_15_coor.txt', '11_23_coor.txt', '13_3_coor.txt', '5_6_coor2.txt', '8_1_coor2.txt', '15_4_coor2.txt', '15_2_coor2.txt', '11_0_coor2.txt', '10_15_coor.txt', '6_16_coor2.txt', '20_7_coor2.txt', '3_14_coor.txt', '21_27_coor2.txt', '15_5_coor2.txt', '9_0_coor2.txt', '2_16_coor2.txt', '11_3_coor2.txt', '8_8_coor.txt', '20_18_coor2.txt', '10_3_coor.txt', '9_14_coor2.txt', '21_23_coor.txt', '16_14_coor.txt', '6_22_coor.txt', '4_5_coor2.txt', '17_5_coor2.txt', '12_3_coor2.txt', '17_20_coor2.txt', '8_27_coor2.txt', '11_20_coor.txt', '0_4_coor2.txt', '17_15_coor2.txt', '14_27_coor.txt', '14_1_coor2.txt', '21_7_coor.txt', '9_19_coor2.txt', '13_22_coor2.txt', '10_12_coor.txt', '14_18_coor2.txt', '12_7_coor.txt', '16_4_coor2.txt', '9_26_coor2.txt', '19_23_coor2.txt', '15_6_coor.txt', '13_10_coor2.txt', '15_7_coor2.txt', '1_10_coor.txt', '11_18_coor2.txt', '12_1_coor2.txt', '3_13_coor2.txt', '16_2_coor2.txt', '1_18_coor.txt', '11_17_coor.txt', '13_2_coor.txt', '15_17_coor2.txt', '13_5_coor2.txt', '20_10_coor2.txt', '9_23_coor.txt', '4_20_coor2.txt', '22_18_coor.txt', '17_6_coor2.txt', '5_16_coor2.txt', '6_5_coor.txt', '15_3_coor2.txt', '6_18_coor.txt', '17_2_coor2.txt', '4_7_coor.txt', '1_2_coor2.txt', '8_6_coor2.txt', '5_14_coor.txt', '9_4_coor.txt', '6_15_coor2.txt', '22_23_coor.txt', '16_24_coor2.txt', '2_28_coor2.txt', '10_4_coor.txt', '12_10_coor.txt', '2_10_coor.txt', '9_23_coor2.txt', '18_25_coor2.txt', '10_24_coor.txt', '19_26_coor2.txt', '7_5_coor.txt', '20_20_coor2.txt', '18_17_coor.txt', '14_15_coor2.txt', '13_25_coor2.txt', '19_10_coor.txt', '6_18_coor2.txt', '16_12_coor.txt', '11_6_coor2.txt', '16_17_coor2.txt', '21_20_coor.txt', '21_24_coor2.txt', '21_2_coor.txt', '16_26_coor2.txt', '16_0_coor2.txt', '1_0_coor2.txt', '1_25_coor.txt', '7_3_coor2.txt', '13_28_coor2.txt', '1_1_coor2.txt', '0_10_coor2.txt', '3_26_coor2.txt', '14_4_coor2.txt', '3_18_coor2.txt', '7_4_coor.txt', '1_11_coor.txt', '21_9_coor.txt', '21_1_coor2.txt', '0_12_coor2.txt', '22_19_coor.txt', '8_8_coor2.txt', '9_7_coor.txt', '13_17_coor2.txt', '19_9_coor2.txt', '16_15_coor2.txt', '0_1_coor.txt', '20_2_coor.txt', '14_8_coor.txt', '18_0_coor2.txt', '6_13_coor.txt', '9_14_coor.txt', '0_24_coor.txt', '9_11_coor2.txt', '6_26_coor.txt', '14_26_coor2.txt', '8_18_coor.txt', '10_0_coor2.txt', '10_16_coor2.txt', '19_12_coor.txt', '19_24_coor2.txt', '22_22_coor.txt', '22_10_coor2.txt', '16_13_coor2.txt', '7_28_coor2.txt', '15_25_coor2.txt', '12_18_coor2.txt', '22_5_coor2.txt', '7_24_coor.txt', '9_22_coor.txt', '14_12_coor2.txt', '2_26_coor.txt', '10_1_coor.txt', '1_17_coor.txt', '20_13_coor.txt', '1_5_coor.txt', '5_20_coor.txt', '14_10_coor.txt', '22_6_coor2.txt', '16_0_coor.txt', '4_22_coor.txt', '4_13_coor.txt', '4_6_coor.txt', '7_1_coor.txt', '12_6_coor.txt', '17_19_coor2.txt', '12_20_coor2.txt', '16_21_coor2.txt', '3_7_coor2.txt', '9_13_coor.txt', '12_0_coor2.txt', '1_21_coor.txt', '22_20_coor2.txt', '9_9_coor.txt', '7_14_coor2.txt', '12_22_coor.txt', '22_22_coor2.txt', '6_9_coor2.txt', '2_4_coor2.txt', '12_8_coor2.txt', '16_14_coor2.txt', '6_6_coor.txt', '12_1_coor.txt', '6_11_coor2.txt', '18_27_coor.txt', '10_4_coor2.txt', '11_9_coor2.txt', '2_2_coor.txt', '17_2_coor.txt', '21_28_coor.txt', '6_2_coor2.txt', '0_21_coor2.txt', '5_24_coor2.txt', '14_19_coor2.txt', '13_6_coor2.txt', '15_19_coor.txt', '6_28_coor.txt', '10_21_coor2.txt', '18_15_coor.txt', '3_0_coor.txt', '16_4_coor.txt', '16_12_coor2.txt', '21_19_coor.txt', '8_5_coor.txt', '7_13_coor.txt', '1_12_coor2.txt', '11_21_coor2.txt', '4_18_coor.txt', '15_22_coor2.txt', '2_15_coor.txt', '15_13_coor2.txt', '7_7_coor.txt', '17_0_coor.txt', '21_25_coor2.txt', '20_17_coor2.txt', '9_4_coor2.txt', '1_13_coor.txt', '13_21_coor.txt', '13_28_coor.txt', '14_10_coor2.txt', '4_12_coor2.txt', '14_25_coor.txt', '18_11_coor2.txt', '16_28_coor2.txt', '1_20_coor.txt', '11_3_coor.txt', '1_12_coor.txt', '0_22_coor.txt', '15_15_coor2.txt', '5_19_coor2.txt', '19_14_coor2.txt', '19_7_coor.txt', '10_20_coor.txt', '15_13_coor.txt', '16_26_coor.txt', '5_11_coor2.txt', '17_16_coor2.txt', '14_28_coor2.txt', '2_0_coor.txt', '3_17_coor2.txt', '14_12_coor.txt', '9_8_coor.txt', '20_24_coor2.txt', '15_26_coor.txt', '15_21_coor2.txt', '14_16_coor2.txt', '3_15_coor2.txt', '7_7_coor2.txt', '21_9_coor2.txt', '10_22_coor2.txt', '20_17_coor.txt', '22_26_coor2.txt', '1_14_coor.txt', '4_4_coor2.txt', '5_21_coor2.txt', '2_15_coor2.txt', '19_16_coor.txt', '0_16_coor2.txt', '11_7_coor2.txt', '12_26_coor2.txt', '17_9_coor2.txt', '14_5_coor.txt', '5_10_coor.txt', '1_19_coor.txt', '13_2_coor2.txt', '19_6_coor.txt', '15_18_coor2.txt', '8_2_coor.txt', '19_11_coor2.txt', '16_5_coor2.txt', '20_22_coor2.txt', '2_11_coor.txt', '9_6_coor.txt', '6_22_coor2.txt', '20_9_coor.txt', '15_0_coor.txt', '0_9_coor.txt', '3_18_coor.txt', '11_10_coor.txt', '0_2_coor.txt', '13_8_coor.txt', '5_27_coor2.txt', '2_22_coor.txt', '4_2_coor2.txt', '11_15_coor2.txt', '5_23_coor.txt', '14_2_coor2.txt', '13_17_coor.txt', '8_22_coor2.txt', '12_16_coor2.txt', '4_16_coor2.txt', '0_0_coor.txt', '6_25_coor2.txt', '8_15_coor.txt', '7_23_coor2.txt', '7_15_coor2.txt', '4_6_coor2.txt', '20_27_coor.txt', '6_12_coor.txt', '8_11_coor2.txt', '14_7_coor2.txt', '12_17_coor2.txt', '18_15_coor2.txt', '19_5_coor.txt', '11_2_coor.txt', '12_5_coor.txt', '17_25_coor2.txt', '17_16_coor.txt', '7_5_coor2.txt', '11_5_coor2.txt', '9_28_coor2.txt', '20_10_coor.txt', '9_24_coor2.txt', '2_19_coor2.txt', '4_28_coor.txt', '10_22_coor.txt', '4_14_coor2.txt', '8_25_coor.txt', '15_1_coor2.txt', '4_5_coor.txt', '17_13_coor2.txt', '18_25_coor.txt', '1_1_coor.txt', '4_27_coor.txt', '19_28_coor.txt', '1_23_coor.txt', '8_17_coor2.txt', '2_19_coor.txt', '10_13_coor2.txt', '17_8_coor.txt', '3_1_coor2.txt', '7_13_coor2.txt', '17_6_coor.txt', '11_10_coor2.txt', '18_23_coor.txt', '6_28_coor2.txt', '21_8_coor2.txt', '12_22_coor2.txt', '17_3_coor.txt', '7_10_coor2.txt', '19_23_coor.txt', '1_26_coor2.txt', '19_25_coor2.txt', '4_0_coor2.txt', '0_19_coor.txt', '15_1_coor.txt', '3_5_coor2.txt', '3_24_coor2.txt', '21_7_coor2.txt', '9_3_coor2.txt', '4_8_coor2.txt', '18_14_coor2.txt', '18_4_coor2.txt', '17_24_coor.txt', '13_20_coor2.txt', '9_13_coor2.txt', '0_15_coor2.txt', '17_26_coor2.txt', '19_3_coor.txt', '8_1_coor.txt', '6_13_coor2.txt', '13_13_coor2.txt', '11_26_coor.txt', '6_7_coor.txt', '20_7_coor.txt', '13_7_coor.txt', '5_21_coor.txt', '7_19_coor.txt', '21_15_coor.txt', '22_12_coor2.txt', '6_3_coor2.txt', '8_10_coor2.txt', '9_2_coor2.txt', '8_7_coor.txt', '14_26_coor.txt', '3_25_coor2.txt', '16_19_coor.txt', '0_11_coor.txt', '16_9_coor.txt', '8_13_coor.txt', '5_12_coor.txt', '16_11_coor.txt', '5_22_coor.txt', '0_25_coor.txt', '20_6_coor2.txt', '22_21_coor2.txt', '8_20_coor.txt', '8_27_coor.txt', '22_2_coor2.txt', '11_8_coor.txt', '8_26_coor2.txt', '22_16_coor.txt', '9_20_coor2.txt', '3_22_coor.txt', '10_6_coor.txt', '2_8_coor.txt', '11_16_coor2.txt', '7_1_coor2.txt', '12_27_coor2.txt', '1_16_coor.txt', '11_5_coor.txt', '4_17_coor.txt', '3_28_coor.txt', '6_15_coor.txt', '5_14_coor2.txt', '13_23_coor2.txt', '15_12_coor2.txt', '12_10_coor2.txt', '11_6_coor.txt', '17_21_coor.txt', '18_8_coor.txt', '13_24_coor2.txt', '9_17_coor2.txt', '15_9_coor2.txt', '0_27_coor2.txt', '7_19_coor2.txt', '1_28_coor.txt', '14_17_coor2.txt', '17_24_coor2.txt', '14_9_coor.txt', '17_26_coor.txt', '8_6_coor.txt', '0_14_coor2.txt', '5_18_coor.txt', '7_18_coor.txt', '16_23_coor.txt', '13_12_coor.txt', '22_17_coor.txt', '10_14_coor2.txt', '15_17_coor.txt', '5_3_coor2.txt', '15_20_coor.txt', '19_17_coor.txt', '11_12_coor.txt', '10_1_coor2.txt', '8_12_coor2.txt', '20_8_coor.txt', '13_26_coor.txt', '16_1_coor2.txt', '5_5_coor.txt', '20_13_coor2.txt', '4_19_coor.txt', '9_24_coor.txt', '2_4_coor.txt', '22_26_coor.txt', '20_11_coor.txt', '12_14_coor.txt', '5_18_coor2.txt', '19_14_coor.txt', '1_19_coor2.txt', '13_15_coor.txt', '5_17_coor2.txt', '19_4_coor.txt', '0_17_coor.txt', '0_28_coor2.txt', '15_4_coor.txt', '18_9_coor2.txt', '4_0_coor.txt', '3_26_coor.txt', '8_12_coor.txt', '22_3_coor2.txt', '13_0_coor.txt', '6_17_coor2.txt', '8_18_coor2.txt', '22_1_coor.txt', '19_1_coor2.txt', '15_11_coor2.txt', '12_3_coor.txt', '19_19_coor2.txt', '0_13_coor2.txt', '14_24_coor2.txt', '4_24_coor.txt', '15_15_coor.txt', '0_2_coor2.txt', '0_11_coor2.txt', '12_26_coor.txt', '2_17_coor.txt', '12_12_coor.txt', '0_18_coor2.txt', '13_27_coor.txt', '19_19_coor.txt', '9_2_coor.txt', '10_11_coor2.txt', '6_5_coor2.txt', '5_7_coor.txt', '5_11_coor.txt', '1_8_coor.txt', '17_23_coor.txt', '5_2_coor2.txt', '12_24_coor2.txt', '8_19_coor2.txt', '2_0_coor2.txt', '11_0_coor.txt', '5_26_coor.txt', '22_17_coor2.txt', '8_2_coor2.txt', '16_19_coor2.txt', '6_4_coor.txt', '6_1_coor2.txt', '10_11_coor.txt', '8_28_coor.txt', '13_19_coor2.txt', '3_2_coor2.txt', '14_25_coor2.txt', '17_23_coor2.txt', '7_26_coor.txt', '1_4_coor2.txt', '8_24_coor.txt', '7_2_coor2.txt', '9_28_coor.txt', '12_15_coor2.txt', '4_21_coor2.txt', '17_10_coor2.txt', '18_10_coor.txt', '18_26_coor.txt', '21_27_coor.txt', '3_14_coor2.txt', '4_21_coor.txt', '21_3_coor2.txt', '2_27_coor2.txt', '11_18_coor.txt', '4_3_coor.txt', '8_17_coor.txt', '1_22_coor.txt', '7_25_coor2.txt', '11_4_coor.txt', '17_15_coor.txt', '9_25_coor2.txt', '5_28_coor.txt', '20_25_coor.txt', '13_13_coor.txt', '8_19_coor.txt', '6_10_coor.txt', '0_6_coor2.txt', '15_14_coor2.txt', '5_0_coor2.txt', '11_22_coor.txt', '13_16_coor.txt', '10_10_coor2.txt', '10_18_coor.txt', '8_26_coor.txt', '12_4_coor.txt', '9_6_coor2.txt', '13_14_coor.txt', '4_9_coor2.txt', '9_10_coor.txt', '4_8_coor.txt', '18_1_coor.txt', '0_23_coor.txt', '5_4_coor2.txt', '8_0_coor.txt', '3_10_coor2.txt', '1_5_coor2.txt', '1_18_coor2.txt', '18_18_coor.txt', '7_10_coor.txt', '6_10_coor2.txt', '3_16_coor.txt', '22_24_coor.txt', '9_5_coor.txt', '9_26_coor.txt', '13_6_coor.txt', '6_7_coor2.txt', '12_25_coor2.txt', '16_8_coor2.txt', '21_3_coor.txt', '10_3_coor2.txt', '10_25_coor2.txt', '20_3_coor2.txt', '10_0_coor.txt', '8_14_coor.txt', '2_7_coor2.txt', '22_6_coor.txt', '6_3_coor.txt', '21_15_coor2.txt', '4_19_coor2.txt', '19_2_coor.txt', '22_28_coor.txt', '0_9_coor2.txt', '14_6_coor.txt', '3_6_coor2.txt', '11_13_coor.txt', '3_4_coor2.txt', '16_6_coor2.txt', '8_5_coor2.txt', '4_12_coor.txt', '15_10_coor.txt', '0_18_coor.txt', '14_0_coor2.txt', '2_28_coor.txt', '2_11_coor2.txt', '7_23_coor.txt', '2_16_coor.txt', '10_28_coor.txt', '0_5_coor.txt', '11_2_coor2.txt', '3_13_coor.txt', '19_18_coor.txt', '8_23_coor.txt', '8_7_coor2.txt', '1_8_coor2.txt', '18_10_coor2.txt', '10_28_coor2.txt', '17_18_coor.txt', '3_17_coor.txt', '21_4_coor2.txt', '16_7_coor.txt', '19_10_coor2.txt', '8_23_coor2.txt', '1_4_coor.txt', '18_22_coor.txt', '13_12_coor2.txt', '10_2_coor.txt', '19_13_coor.txt', '20_6_coor.txt', '17_4_coor2.txt', '21_1_coor.txt', '10_2_coor2.txt', '13_22_coor.txt', '3_6_coor.txt', '22_21_coor.txt', '5_12_coor2.txt', '21_12_coor2.txt', '14_20_coor.txt', '3_22_coor2.txt', '18_6_coor2.txt', '7_12_coor.txt', '5_8_coor2.txt', '7_17_coor2.txt', '6_20_coor.txt', '19_27_coor2.txt', '3_3_coor2.txt', '4_22_coor2.txt', '20_1_coor.txt', '0_22_coor2.txt', '8_3_coor2.txt', '21_4_coor.txt', '15_22_coor.txt', '16_22_coor.txt', '16_2_coor.txt', '19_8_coor.txt', '1_17_coor2.txt', '21_10_coor.txt', '9_15_coor2.txt', '21_12_coor.txt', '14_3_coor.txt', '3_9_coor2.txt', '6_0_coor2.txt', '1_22_coor2.txt', '11_28_coor.txt', '22_3_coor.txt', '9_21_coor.txt', '22_19_coor2.txt', '18_3_coor.txt', '11_14_coor2.txt', '14_11_coor2.txt', '14_5_coor2.txt', '1_25_coor2.txt', '17_14_coor2.txt', '19_28_coor2.txt', '13_7_coor2.txt', '15_16_coor.txt', '5_0_coor.txt', '10_17_coor2.txt', '14_22_coor.txt', '15_18_coor.txt', '7_27_coor.txt', '11_24_coor2.txt', '0_26_coor.txt', '8_0_coor2.txt', '17_14_coor.txt', '15_0_coor2.txt', '12_8_coor.txt', '19_6_coor2.txt', '10_26_coor2.txt', '19_4_coor2.txt', '14_22_coor2.txt', '21_11_coor.txt', '19_17_coor2.txt', '4_4_coor.txt', '15_8_coor2.txt', '10_10_coor.txt', '0_3_coor2.txt', '1_15_coor2.txt', '18_11_coor.txt', '6_1_coor.txt', '17_10_coor.txt', '7_14_coor.txt', '8_24_coor2.txt', '3_4_coor.txt']\n"
     ]
    }
   ],
   "source": [
    "#获取文件夹下所有坐标范围的txt文件\n",
    "\n",
    "path = '../Datasets/dataset_1024/coordinates/'\n",
    "# path = \"../Datasets/dataset_time/coordinate/\"\n",
    "\n",
    "file_list = os.listdir(path)\n",
    "print(len(file_list), \"\\n\", file_list)"
   ]
  },
  {
   "cell_type": "code",
   "execution_count": 30,
   "metadata": {},
   "outputs": [],
   "source": [
    "#采样并持久化存储\n",
    "\n",
    "sampler = SampleByCoordinate()\n",
    "\n",
    "for file_name in tqdm(file_list):\n",
    "    # Open the file in read mode\n",
    "    with open(os.path.join(path, file_name), \"r\") as file:\n",
    "        # Read the lines from the file\n",
    "        coordinate_range = eval(file.read())\n",
    "\n",
    "    #gps数据采样和保存\n",
    "    gps_selected = sampler.gps_by_coor(gps_data, coordinate_range)\n",
    "    with open(f\"../Datasets/dataset_mask7/GPS/taxi_direct_patch/{file_name[:-8]}_gps.pkl\", \"wb\") as f:\n",
    "        pickle.dump(gps_selected, f)\n",
    "\n",
    "    # #mask数据采样和保存\n",
    "    # mask = sampler.mask_by_coor(mask_img, coordinate_range)\n",
    "    # cv2.imwrite(f\"../Datasets/dataset_mask7/mask_province/{file_name[:-8]}_mask.png\", mask)\n",
    "    # # print(coordinate_range)\n",
    "\n",
    "print(\"Done!\")"
   ]
  },
  {
   "cell_type": "code",
   "execution_count": 32,
   "metadata": {},
   "outputs": [
    {
     "name": "stderr",
     "output_type": "stream",
     "text": [
      "100%|██████████| 1334/1334 [04:40<00:00,  4.75it/s]"
     ]
    },
    {
     "name": "stdout",
     "output_type": "stream",
     "text": [
      "Done!\n"
     ]
    },
    {
     "name": "stderr",
     "output_type": "stream",
     "text": [
      "\n"
     ]
    }
   ],
   "source": [
    "# #针对孙论文的GPS数据重新采样\n",
    "\n",
    "# sampler = SampleByCoordinate()\n",
    "\n",
    "# for file_name in tqdm(file_list):\n",
    "#     if file_name[-9:] == \"coor2.txt\":\n",
    "#         continue\n",
    "#     # Open the file in read mode\n",
    "#     with open(os.path.join(path, file_name), \"r\") as file:\n",
    "#         # Read the lines from the file\n",
    "#         coor_dict = eval(file.read())\n",
    "#         # print(coordinate_range)\n",
    "#     #词典转换为tuple\n",
    "#     coordinate_range = ((coor_dict[\"west\"], coor_dict[\"north\"]), (coor_dict[\"east\"], coor_dict[\"south\"]))\n",
    "#     gps_selected = sampler.gps_by_coor(gps_data, coordinate_range)\n",
    "#     with open(f\"../Datasets/dataset_time/GPS/patch/{file_name[:-9]}_gps.pkl\", \"wb\") as f:\n",
    "#         pickle.dump(gps_selected, f)\n",
    "# print(\"Done!\")"
   ]
  },
  {
   "cell_type": "code",
   "execution_count": null,
   "metadata": {},
   "outputs": [],
   "source": []
  }
 ],
 "metadata": {
  "kernelspec": {
   "display_name": "base",
   "language": "python",
   "name": "python3"
  },
  "language_info": {
   "codemirror_mode": {
    "name": "ipython",
    "version": 3
   },
   "file_extension": ".py",
   "mimetype": "text/x-python",
   "name": "python",
   "nbconvert_exporter": "python",
   "pygments_lexer": "ipython3",
   "version": "3.8.16"
  }
 },
 "nbformat": 4,
 "nbformat_minor": 2
}
