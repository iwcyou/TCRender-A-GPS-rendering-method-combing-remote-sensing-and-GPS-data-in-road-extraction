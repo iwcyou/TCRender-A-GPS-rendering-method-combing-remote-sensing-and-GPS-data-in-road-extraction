{
 "cells": [
  {
   "cell_type": "code",
   "execution_count": 2,
   "metadata": {},
   "outputs": [],
   "source": [
    "import pickle\n",
    "with open('./datasets/dataset_sz_grid/GPS/taxi/0_6_gps.pkl', 'rb') as f:\n",
    "    data = pickle.load(f, encoding=\"bytes\")"
   ]
  },
  {
   "cell_type": "code",
   "execution_count": 3,
   "metadata": {},
   "outputs": [
    {
     "data": {
      "text/html": [
       "<div>\n",
       "<style scoped>\n",
       "    .dataframe tbody tr th:only-of-type {\n",
       "        vertical-align: middle;\n",
       "    }\n",
       "\n",
       "    .dataframe tbody tr th {\n",
       "        vertical-align: top;\n",
       "    }\n",
       "\n",
       "    .dataframe thead th {\n",
       "        text-align: right;\n",
       "    }\n",
       "</style>\n",
       "<table border=\"1\" class=\"dataframe\">\n",
       "  <thead>\n",
       "    <tr style=\"text-align: right;\">\n",
       "      <th></th>\n",
       "      <th>id</th>\n",
       "      <th>lon</th>\n",
       "      <th>lat</th>\n",
       "      <th>time</th>\n",
       "      <th>speed</th>\n",
       "      <th>direction</th>\n",
       "    </tr>\n",
       "  </thead>\n",
       "  <tbody>\n",
       "    <tr>\n",
       "      <th>12980</th>\n",
       "      <td>粤B0U8X0</td>\n",
       "      <td>909</td>\n",
       "      <td>218</td>\n",
       "      <td>2018-10-01T05:28:06.000Z</td>\n",
       "      <td>0</td>\n",
       "      <td>164</td>\n",
       "    </tr>\n",
       "    <tr>\n",
       "      <th>59555</th>\n",
       "      <td>粤B408YP</td>\n",
       "      <td>908</td>\n",
       "      <td>138</td>\n",
       "      <td>2018-10-01T09:55:47.000Z</td>\n",
       "      <td>24</td>\n",
       "      <td>149</td>\n",
       "    </tr>\n",
       "    <tr>\n",
       "      <th>99992</th>\n",
       "      <td>粤B6K4S9</td>\n",
       "      <td>805</td>\n",
       "      <td>102</td>\n",
       "      <td>2018-10-01T01:29:29.000Z</td>\n",
       "      <td>16</td>\n",
       "      <td>75</td>\n",
       "    </tr>\n",
       "    <tr>\n",
       "      <th>101068</th>\n",
       "      <td>粤B6L5E0</td>\n",
       "      <td>777</td>\n",
       "      <td>69</td>\n",
       "      <td>2018-10-01T14:41:13.000Z</td>\n",
       "      <td>15</td>\n",
       "      <td>294</td>\n",
       "    </tr>\n",
       "    <tr>\n",
       "      <th>111797</th>\n",
       "      <td>粤B7C6R5</td>\n",
       "      <td>846</td>\n",
       "      <td>193</td>\n",
       "      <td>2018-10-01T03:03:59.000Z</td>\n",
       "      <td>61</td>\n",
       "      <td>73</td>\n",
       "    </tr>\n",
       "    <tr>\n",
       "      <th>...</th>\n",
       "      <td>...</td>\n",
       "      <td>...</td>\n",
       "      <td>...</td>\n",
       "      <td>...</td>\n",
       "      <td>...</td>\n",
       "      <td>...</td>\n",
       "    </tr>\n",
       "    <tr>\n",
       "      <th>131720190</th>\n",
       "      <td>粤BDP7850</td>\n",
       "      <td>819</td>\n",
       "      <td>138</td>\n",
       "      <td>2019-10-01T05:29:19.000Z</td>\n",
       "      <td>0</td>\n",
       "      <td>151</td>\n",
       "    </tr>\n",
       "    <tr>\n",
       "      <th>131724485</th>\n",
       "      <td>粤BDQ0515</td>\n",
       "      <td>846</td>\n",
       "      <td>172</td>\n",
       "      <td>2019-10-01T02:09:46.000Z</td>\n",
       "      <td>0</td>\n",
       "      <td>71</td>\n",
       "    </tr>\n",
       "    <tr>\n",
       "      <th>131724486</th>\n",
       "      <td>粤BDQ0515</td>\n",
       "      <td>846</td>\n",
       "      <td>172</td>\n",
       "      <td>2019-10-01T02:12:13.000Z</td>\n",
       "      <td>0</td>\n",
       "      <td>71</td>\n",
       "    </tr>\n",
       "    <tr>\n",
       "      <th>131734491</th>\n",
       "      <td>粤BDQ8371</td>\n",
       "      <td>842</td>\n",
       "      <td>182</td>\n",
       "      <td>2019-10-01T03:00:25.000Z</td>\n",
       "      <td>0</td>\n",
       "      <td>71</td>\n",
       "    </tr>\n",
       "    <tr>\n",
       "      <th>131768803</th>\n",
       "      <td>粤B4314学</td>\n",
       "      <td>910</td>\n",
       "      <td>36</td>\n",
       "      <td>2019-10-01T12:16:54.000Z</td>\n",
       "      <td>0</td>\n",
       "      <td>157</td>\n",
       "    </tr>\n",
       "  </tbody>\n",
       "</table>\n",
       "<p>6569 rows × 6 columns</p>\n",
       "</div>"
      ],
      "text/plain": [
       "                 id  lon  lat                      time  speed  direction\n",
       "12980       粤B0U8X0  909  218  2018-10-01T05:28:06.000Z      0        164\n",
       "59555       粤B408YP  908  138  2018-10-01T09:55:47.000Z     24        149\n",
       "99992       粤B6K4S9  805  102  2018-10-01T01:29:29.000Z     16         75\n",
       "101068      粤B6L5E0  777   69  2018-10-01T14:41:13.000Z     15        294\n",
       "111797      粤B7C6R5  846  193  2018-10-01T03:03:59.000Z     61         73\n",
       "...             ...  ...  ...                       ...    ...        ...\n",
       "131720190  粤BDP7850  819  138  2019-10-01T05:29:19.000Z      0        151\n",
       "131724485  粤BDQ0515  846  172  2019-10-01T02:09:46.000Z      0         71\n",
       "131724486  粤BDQ0515  846  172  2019-10-01T02:12:13.000Z      0         71\n",
       "131734491  粤BDQ8371  842  182  2019-10-01T03:00:25.000Z      0         71\n",
       "131768803   粤B4314学  910   36  2019-10-01T12:16:54.000Z      0        157\n",
       "\n",
       "[6569 rows x 6 columns]"
      ]
     },
     "execution_count": 3,
     "metadata": {},
     "output_type": "execute_result"
    }
   ],
   "source": [
    "data"
   ]
  },
  {
   "cell_type": "code",
   "execution_count": 7,
   "metadata": {},
   "outputs": [],
   "source": [
    "with open('./dataset/GPS/beijing_gps_dir_speed_interval_sorted.pkl', 'rb') as f:\n",
    "    data2 = pickle.load(f, encoding=\"bytes\")"
   ]
  },
  {
   "cell_type": "code",
   "execution_count": 8,
   "metadata": {},
   "outputs": [
    {
     "data": {
      "text/html": [
       "<div>\n",
       "<style scoped>\n",
       "    .dataframe tbody tr th:only-of-type {\n",
       "        vertical-align: middle;\n",
       "    }\n",
       "\n",
       "    .dataframe tbody tr th {\n",
       "        vertical-align: top;\n",
       "    }\n",
       "\n",
       "    .dataframe thead th {\n",
       "        text-align: right;\n",
       "    }\n",
       "</style>\n",
       "<table border=\"1\" class=\"dataframe\">\n",
       "  <thead>\n",
       "    <tr style=\"text-align: right;\">\n",
       "      <th></th>\n",
       "      <th>ID</th>\n",
       "      <th>time</th>\n",
       "      <th>lat</th>\n",
       "      <th>lon</th>\n",
       "      <th>dir</th>\n",
       "      <th>speed</th>\n",
       "      <th>timeinterval</th>\n",
       "    </tr>\n",
       "  </thead>\n",
       "  <tbody>\n",
       "    <tr>\n",
       "      <th>0</th>\n",
       "      <td>0</td>\n",
       "      <td>1228061046</td>\n",
       "      <td>39.71743</td>\n",
       "      <td>116.61815</td>\n",
       "      <td>0</td>\n",
       "      <td>0</td>\n",
       "      <td>NaN</td>\n",
       "    </tr>\n",
       "    <tr>\n",
       "      <th>1</th>\n",
       "      <td>0</td>\n",
       "      <td>1228088457</td>\n",
       "      <td>39.71742</td>\n",
       "      <td>116.61798</td>\n",
       "      <td>0</td>\n",
       "      <td>0</td>\n",
       "      <td>177.5</td>\n",
       "    </tr>\n",
       "    <tr>\n",
       "      <th>2</th>\n",
       "      <td>0</td>\n",
       "      <td>1228088520</td>\n",
       "      <td>39.71670</td>\n",
       "      <td>116.61420</td>\n",
       "      <td>159</td>\n",
       "      <td>0</td>\n",
       "      <td>150.5</td>\n",
       "    </tr>\n",
       "    <tr>\n",
       "      <th>3</th>\n",
       "      <td>0</td>\n",
       "      <td>1228088758</td>\n",
       "      <td>39.71742</td>\n",
       "      <td>116.61798</td>\n",
       "      <td>0</td>\n",
       "      <td>0</td>\n",
       "      <td>272.5</td>\n",
       "    </tr>\n",
       "    <tr>\n",
       "      <th>4</th>\n",
       "      <td>0</td>\n",
       "      <td>1228090926</td>\n",
       "      <td>39.71670</td>\n",
       "      <td>116.61428</td>\n",
       "      <td>0</td>\n",
       "      <td>0</td>\n",
       "      <td>354.5</td>\n",
       "    </tr>\n",
       "    <tr>\n",
       "      <th>...</th>\n",
       "      <td>...</td>\n",
       "      <td>...</td>\n",
       "      <td>...</td>\n",
       "      <td>...</td>\n",
       "      <td>...</td>\n",
       "      <td>...</td>\n",
       "      <td>...</td>\n",
       "    </tr>\n",
       "    <tr>\n",
       "      <th>50041852</th>\n",
       "      <td>28036</td>\n",
       "      <td>1228742522</td>\n",
       "      <td>39.95209</td>\n",
       "      <td>116.30327</td>\n",
       "      <td>23470</td>\n",
       "      <td>0</td>\n",
       "      <td>427.5</td>\n",
       "    </tr>\n",
       "    <tr>\n",
       "      <th>50041853</th>\n",
       "      <td>28036</td>\n",
       "      <td>1228742828</td>\n",
       "      <td>39.95206</td>\n",
       "      <td>116.30322</td>\n",
       "      <td>22420</td>\n",
       "      <td>0</td>\n",
       "      <td>429.0</td>\n",
       "    </tr>\n",
       "    <tr>\n",
       "      <th>50041854</th>\n",
       "      <td>28036</td>\n",
       "      <td>1228743380</td>\n",
       "      <td>39.95198</td>\n",
       "      <td>116.30315</td>\n",
       "      <td>1820</td>\n",
       "      <td>0</td>\n",
       "      <td>NaN</td>\n",
       "    </tr>\n",
       "    <tr>\n",
       "      <th>50041855</th>\n",
       "      <td>28037</td>\n",
       "      <td>1228089568</td>\n",
       "      <td>40.08177</td>\n",
       "      <td>116.23259</td>\n",
       "      <td>16130</td>\n",
       "      <td>1222</td>\n",
       "      <td>NaN</td>\n",
       "    </tr>\n",
       "    <tr>\n",
       "      <th>50041856</th>\n",
       "      <td>28037</td>\n",
       "      <td>1228691712</td>\n",
       "      <td>40.08411</td>\n",
       "      <td>116.22866</td>\n",
       "      <td>11210</td>\n",
       "      <td>0</td>\n",
       "      <td>NaN</td>\n",
       "    </tr>\n",
       "  </tbody>\n",
       "</table>\n",
       "<p>50041857 rows × 7 columns</p>\n",
       "</div>"
      ],
      "text/plain": [
       "             ID        time       lat        lon    dir  speed  timeinterval\n",
       "0             0  1228061046  39.71743  116.61815      0      0           NaN\n",
       "1             0  1228088457  39.71742  116.61798      0      0         177.5\n",
       "2             0  1228088520  39.71670  116.61420    159      0         150.5\n",
       "3             0  1228088758  39.71742  116.61798      0      0         272.5\n",
       "4             0  1228090926  39.71670  116.61428      0      0         354.5\n",
       "...         ...         ...       ...        ...    ...    ...           ...\n",
       "50041852  28036  1228742522  39.95209  116.30327  23470      0         427.5\n",
       "50041853  28036  1228742828  39.95206  116.30322  22420      0         429.0\n",
       "50041854  28036  1228743380  39.95198  116.30315   1820      0           NaN\n",
       "50041855  28037  1228089568  40.08177  116.23259  16130   1222           NaN\n",
       "50041856  28037  1228691712  40.08411  116.22866  11210      0           NaN\n",
       "\n",
       "[50041857 rows x 7 columns]"
      ]
     },
     "execution_count": 8,
     "metadata": {},
     "output_type": "execute_result"
    }
   ],
   "source": [
    "data2"
   ]
  },
  {
   "cell_type": "code",
   "execution_count": 8,
   "metadata": {},
   "outputs": [
    {
     "name": "stdout",
     "output_type": "stream",
     "text": [
      "Help on function ndim in module numpy:\n",
      "\n",
      "ndim(a)\n",
      "    Return the number of dimensions of an array.\n",
      "    \n",
      "    Parameters\n",
      "    ----------\n",
      "    a : array_like\n",
      "        Input array.  If it is not already an ndarray, a conversion is\n",
      "        attempted.\n",
      "    \n",
      "    Returns\n",
      "    -------\n",
      "    number_of_dimensions : int\n",
      "        The number of dimensions in `a`.  Scalars are zero-dimensional.\n",
      "    \n",
      "    See Also\n",
      "    --------\n",
      "    ndarray.ndim : equivalent method\n",
      "    shape : dimensions of array\n",
      "    ndarray.shape : dimensions of array\n",
      "    \n",
      "    Examples\n",
      "    --------\n",
      "    >>> np.ndim([[1,2,3],[4,5,6]])\n",
      "    2\n",
      "    >>> np.ndim(np.array([[1,2,3],[4,5,6]]))\n",
      "    2\n",
      "    >>> np.ndim(1)\n",
      "    0\n",
      "\n"
     ]
    }
   ],
   "source": [
    "import numpy as np\n",
    "import pandas as pd\n",
    "help(np.ndim)\n",
    "# help(pd.ndim)"
   ]
  },
  {
   "cell_type": "code",
   "execution_count": 2,
   "metadata": {},
   "outputs": [
    {
     "name": "stdout",
     "output_type": "stream",
     "text": [
      "Renamed: datasets/dataset_time/GPS/time_count_patch/1_56_mask.png -> datasets/dataset_time/GPS/time_count_patch/1_56_gps.png\n",
      "Renamed: datasets/dataset_time/GPS/time_count_patch/5_21_mask.png -> datasets/dataset_time/GPS/time_count_patch/5_21_gps.png\n",
      "Renamed: datasets/dataset_time/GPS/time_count_patch/13_31_mask.png -> datasets/dataset_time/GPS/time_count_patch/13_31_gps.png\n",
      "Renamed: datasets/dataset_time/GPS/time_count_patch/44_54_mask.png -> datasets/dataset_time/GPS/time_count_patch/44_54_gps.png\n",
      "Renamed: datasets/dataset_time/GPS/time_count_patch/2_19_mask.png -> datasets/dataset_time/GPS/time_count_patch/2_19_gps.png\n",
      "Renamed: datasets/dataset_time/GPS/time_count_patch/0_10_mask.png -> datasets/dataset_time/GPS/time_count_patch/0_10_gps.png\n",
      "Renamed: datasets/dataset_time/GPS/time_count_patch/18_57_mask.png -> datasets/dataset_time/GPS/time_count_patch/18_57_gps.png\n",
      "Renamed: datasets/dataset_time/GPS/time_count_patch/23_50_mask.png -> datasets/dataset_time/GPS/time_count_patch/23_50_gps.png\n",
      "Renamed: datasets/dataset_time/GPS/time_count_patch/37_40_mask.png -> datasets/dataset_time/GPS/time_count_patch/37_40_gps.png\n",
      "Renamed: datasets/dataset_time/GPS/time_count_patch/3_45_mask.png -> datasets/dataset_time/GPS/time_count_patch/3_45_gps.png\n",
      "Renamed: datasets/dataset_time/GPS/time_count_patch/14_43_mask.png -> datasets/dataset_time/GPS/time_count_patch/14_43_gps.png\n",
      "Renamed: datasets/dataset_time/GPS/time_count_patch/40_16_mask.png -> datasets/dataset_time/GPS/time_count_patch/40_16_gps.png\n",
      "Renamed: datasets/dataset_time/GPS/time_count_patch/28_13_mask.png -> datasets/dataset_time/GPS/time_count_patch/28_13_gps.png\n",
      "Renamed: datasets/dataset_time/GPS/time_count_patch/29_35_mask.png -> datasets/dataset_time/GPS/time_count_patch/29_35_gps.png\n",
      "Renamed: datasets/dataset_time/GPS/time_count_patch/9_10_mask.png -> datasets/dataset_time/GPS/time_count_patch/9_10_gps.png\n",
      "Renamed: datasets/dataset_time/GPS/time_count_patch/11_30_mask.png -> datasets/dataset_time/GPS/time_count_patch/11_30_gps.png\n",
      "Renamed: datasets/dataset_time/GPS/time_count_patch/8_16_mask.png -> datasets/dataset_time/GPS/time_count_patch/8_16_gps.png\n",
      "Renamed: datasets/dataset_time/GPS/time_count_patch/21_42_mask.png -> datasets/dataset_time/GPS/time_count_patch/21_42_gps.png\n",
      "Renamed: datasets/dataset_time/GPS/time_count_patch/34_40_mask.png -> datasets/dataset_time/GPS/time_count_patch/34_40_gps.png\n",
      "Renamed: datasets/dataset_time/GPS/time_count_patch/7_25_mask.png -> datasets/dataset_time/GPS/time_count_patch/7_25_gps.png\n",
      "Renamed: datasets/dataset_time/GPS/time_count_patch/27_30_mask.png -> datasets/dataset_time/GPS/time_count_patch/27_30_gps.png\n",
      "Renamed: datasets/dataset_time/GPS/time_count_patch/12_44_mask.png -> datasets/dataset_time/GPS/time_count_patch/12_44_gps.png\n",
      "Renamed: datasets/dataset_time/GPS/time_count_patch/21_4_mask.png -> datasets/dataset_time/GPS/time_count_patch/21_4_gps.png\n",
      "Renamed: datasets/dataset_time/GPS/time_count_patch/0_53_mask.png -> datasets/dataset_time/GPS/time_count_patch/0_53_gps.png\n",
      "Renamed: datasets/dataset_time/GPS/time_count_patch/7_39_mask.png -> datasets/dataset_time/GPS/time_count_patch/7_39_gps.png\n",
      "Renamed: datasets/dataset_time/GPS/time_count_patch/19_35_mask.png -> datasets/dataset_time/GPS/time_count_patch/19_35_gps.png\n",
      "Renamed: datasets/dataset_time/GPS/time_count_patch/6_32_mask.png -> datasets/dataset_time/GPS/time_count_patch/6_32_gps.png\n",
      "Renamed: datasets/dataset_time/GPS/time_count_patch/7_32_mask.png -> datasets/dataset_time/GPS/time_count_patch/7_32_gps.png\n",
      "Renamed: datasets/dataset_time/GPS/time_count_patch/5_9_mask.png -> datasets/dataset_time/GPS/time_count_patch/5_9_gps.png\n",
      "Renamed: datasets/dataset_time/GPS/time_count_patch/30_44_mask.png -> datasets/dataset_time/GPS/time_count_patch/30_44_gps.png\n",
      "Renamed: datasets/dataset_time/GPS/time_count_patch/28_34_mask.png -> datasets/dataset_time/GPS/time_count_patch/28_34_gps.png\n",
      "Renamed: datasets/dataset_time/GPS/time_count_patch/35_40_mask.png -> datasets/dataset_time/GPS/time_count_patch/35_40_gps.png\n",
      "Renamed: datasets/dataset_time/GPS/time_count_patch/18_30_mask.png -> datasets/dataset_time/GPS/time_count_patch/18_30_gps.png\n",
      "Renamed: datasets/dataset_time/GPS/time_count_patch/1_57_mask.png -> datasets/dataset_time/GPS/time_count_patch/1_57_gps.png\n",
      "Renamed: datasets/dataset_time/GPS/time_count_patch/20_4_mask.png -> datasets/dataset_time/GPS/time_count_patch/20_4_gps.png\n",
      "Renamed: datasets/dataset_time/GPS/time_count_patch/6_20_mask.png -> datasets/dataset_time/GPS/time_count_patch/6_20_gps.png\n",
      "Renamed: datasets/dataset_time/GPS/time_count_patch/27_25_mask.png -> datasets/dataset_time/GPS/time_count_patch/27_25_gps.png\n",
      "Renamed: datasets/dataset_time/GPS/time_count_patch/7_21_mask.png -> datasets/dataset_time/GPS/time_count_patch/7_21_gps.png\n",
      "Renamed: datasets/dataset_time/GPS/time_count_patch/20_34_mask.png -> datasets/dataset_time/GPS/time_count_patch/20_34_gps.png\n",
      "Renamed: datasets/dataset_time/GPS/time_count_patch/22_51_mask.png -> datasets/dataset_time/GPS/time_count_patch/22_51_gps.png\n",
      "Renamed: datasets/dataset_time/GPS/time_count_patch/45_55_mask.png -> datasets/dataset_time/GPS/time_count_patch/45_55_gps.png\n",
      "Renamed: datasets/dataset_time/GPS/time_count_patch/5_32_mask.png -> datasets/dataset_time/GPS/time_count_patch/5_32_gps.png\n",
      "Renamed: datasets/dataset_time/GPS/time_count_patch/27_24_mask.png -> datasets/dataset_time/GPS/time_count_patch/27_24_gps.png\n",
      "Renamed: datasets/dataset_time/GPS/time_count_patch/15_42_mask.png -> datasets/dataset_time/GPS/time_count_patch/15_42_gps.png\n",
      "Renamed: datasets/dataset_time/GPS/time_count_patch/8_17_mask.png -> datasets/dataset_time/GPS/time_count_patch/8_17_gps.png\n",
      "Renamed: datasets/dataset_time/GPS/time_count_patch/9_11_mask.png -> datasets/dataset_time/GPS/time_count_patch/9_11_gps.png\n",
      "Renamed: datasets/dataset_time/GPS/time_count_patch/6_16_mask.png -> datasets/dataset_time/GPS/time_count_patch/6_16_gps.png\n",
      "Renamed: datasets/dataset_time/GPS/time_count_patch/37_46_mask.png -> datasets/dataset_time/GPS/time_count_patch/37_46_gps.png\n",
      "Renamed: datasets/dataset_time/GPS/time_count_patch/11_49_mask.png -> datasets/dataset_time/GPS/time_count_patch/11_49_gps.png\n",
      "Renamed: datasets/dataset_time/GPS/time_count_patch/26_24_mask.png -> datasets/dataset_time/GPS/time_count_patch/26_24_gps.png\n",
      "Renamed: datasets/dataset_time/GPS/time_count_patch/20_43_mask.png -> datasets/dataset_time/GPS/time_count_patch/20_43_gps.png\n",
      "Renamed: datasets/dataset_time/GPS/time_count_patch/34_41_mask.png -> datasets/dataset_time/GPS/time_count_patch/34_41_gps.png\n",
      "Renamed: datasets/dataset_time/GPS/time_count_patch/20_35_mask.png -> datasets/dataset_time/GPS/time_count_patch/20_35_gps.png\n",
      "Renamed: datasets/dataset_time/GPS/time_count_patch/6_17_mask.png -> datasets/dataset_time/GPS/time_count_patch/6_17_gps.png\n",
      "Renamed: datasets/dataset_time/GPS/time_count_patch/19_30_mask.png -> datasets/dataset_time/GPS/time_count_patch/19_30_gps.png\n",
      "Renamed: datasets/dataset_time/GPS/time_count_patch/1_37_mask.png -> datasets/dataset_time/GPS/time_count_patch/1_37_gps.png\n",
      "Renamed: datasets/dataset_time/GPS/time_count_patch/1_11_mask.png -> datasets/dataset_time/GPS/time_count_patch/1_11_gps.png\n",
      "Renamed: datasets/dataset_time/GPS/time_count_patch/20_28_mask.png -> datasets/dataset_time/GPS/time_count_patch/20_28_gps.png\n",
      "Renamed: datasets/dataset_time/GPS/time_count_patch/12_42_mask.png -> datasets/dataset_time/GPS/time_count_patch/12_42_gps.png\n",
      "Renamed: datasets/dataset_time/GPS/time_count_patch/0_25_mask.png -> datasets/dataset_time/GPS/time_count_patch/0_25_gps.png\n",
      "Renamed: datasets/dataset_time/GPS/time_count_patch/23_39_mask.png -> datasets/dataset_time/GPS/time_count_patch/23_39_gps.png\n",
      "Renamed: datasets/dataset_time/GPS/time_count_patch/21_41_mask.png -> datasets/dataset_time/GPS/time_count_patch/21_41_gps.png\n",
      "Renamed: datasets/dataset_time/GPS/time_count_patch/1_53_mask.png -> datasets/dataset_time/GPS/time_count_patch/1_53_gps.png\n",
      "Renamed: datasets/dataset_time/GPS/time_count_patch/7_20_mask.png -> datasets/dataset_time/GPS/time_count_patch/7_20_gps.png\n",
      "Renamed: datasets/dataset_time/GPS/time_count_patch/4_17_mask.png -> datasets/dataset_time/GPS/time_count_patch/4_17_gps.png\n",
      "Renamed: datasets/dataset_time/GPS/time_count_patch/29_13_mask.png -> datasets/dataset_time/GPS/time_count_patch/29_13_gps.png\n",
      "Renamed: datasets/dataset_time/GPS/time_count_patch/26_25_mask.png -> datasets/dataset_time/GPS/time_count_patch/26_25_gps.png\n",
      "Renamed: datasets/dataset_time/GPS/time_count_patch/7_47_mask.png -> datasets/dataset_time/GPS/time_count_patch/7_47_gps.png\n",
      "Renamed: datasets/dataset_time/GPS/time_count_patch/26_38_mask.png -> datasets/dataset_time/GPS/time_count_patch/26_38_gps.png\n",
      "Renamed: datasets/dataset_time/GPS/time_count_patch/19_41_mask.png -> datasets/dataset_time/GPS/time_count_patch/19_41_gps.png\n",
      "Renamed: datasets/dataset_time/GPS/time_count_patch/21_28_mask.png -> datasets/dataset_time/GPS/time_count_patch/21_28_gps.png\n",
      "Renamed: datasets/dataset_time/GPS/time_count_patch/0_36_mask.png -> datasets/dataset_time/GPS/time_count_patch/0_36_gps.png\n",
      "Renamed: datasets/dataset_time/GPS/time_count_patch/30_43_mask.png -> datasets/dataset_time/GPS/time_count_patch/30_43_gps.png\n",
      "Renamed: datasets/dataset_time/GPS/time_count_patch/17_2_mask.png -> datasets/dataset_time/GPS/time_count_patch/17_2_gps.png\n",
      "Renamed: datasets/dataset_time/GPS/time_count_patch/1_19_mask.png -> datasets/dataset_time/GPS/time_count_patch/1_19_gps.png\n",
      "Renamed: datasets/dataset_time/GPS/time_count_patch/21_30_mask.png -> datasets/dataset_time/GPS/time_count_patch/21_30_gps.png\n",
      "Renamed: datasets/dataset_time/GPS/time_count_patch/6_38_mask.png -> datasets/dataset_time/GPS/time_count_patch/6_38_gps.png\n",
      "Renamed: datasets/dataset_time/GPS/time_count_patch/4_20_mask.png -> datasets/dataset_time/GPS/time_count_patch/4_20_gps.png\n",
      "Renamed: datasets/dataset_time/GPS/time_count_patch/7_33_mask.png -> datasets/dataset_time/GPS/time_count_patch/7_33_gps.png\n",
      "Renamed: datasets/dataset_time/GPS/time_count_patch/35_20_mask.png -> datasets/dataset_time/GPS/time_count_patch/35_20_gps.png\n",
      "Renamed: datasets/dataset_time/GPS/time_count_patch/3_19_mask.png -> datasets/dataset_time/GPS/time_count_patch/3_19_gps.png\n",
      "Renamed: datasets/dataset_time/GPS/time_count_patch/6_43_mask.png -> datasets/dataset_time/GPS/time_count_patch/6_43_gps.png\n",
      "Renamed: datasets/dataset_time/GPS/time_count_patch/32_36_mask.png -> datasets/dataset_time/GPS/time_count_patch/32_36_gps.png\n",
      "Renamed: datasets/dataset_time/GPS/time_count_patch/1_13_mask.png -> datasets/dataset_time/GPS/time_count_patch/1_13_gps.png\n",
      "Renamed: datasets/dataset_time/GPS/time_count_patch/11_38_mask.png -> datasets/dataset_time/GPS/time_count_patch/11_38_gps.png\n",
      "Renamed: datasets/dataset_time/GPS/time_count_patch/5_20_mask.png -> datasets/dataset_time/GPS/time_count_patch/5_20_gps.png\n",
      "Renamed: datasets/dataset_time/GPS/time_count_patch/32_37_mask.png -> datasets/dataset_time/GPS/time_count_patch/32_37_gps.png\n",
      "Renamed: datasets/dataset_time/GPS/time_count_patch/18_56_mask.png -> datasets/dataset_time/GPS/time_count_patch/18_56_gps.png\n",
      "Renamed: datasets/dataset_time/GPS/time_count_patch/4_9_mask.png -> datasets/dataset_time/GPS/time_count_patch/4_9_gps.png\n",
      "Renamed: datasets/dataset_time/GPS/time_count_patch/2_18_mask.png -> datasets/dataset_time/GPS/time_count_patch/2_18_gps.png\n",
      "Renamed: datasets/dataset_time/GPS/time_count_patch/27_8_mask.png -> datasets/dataset_time/GPS/time_count_patch/27_8_gps.png\n",
      "Renamed: datasets/dataset_time/GPS/time_count_patch/6_25_mask.png -> datasets/dataset_time/GPS/time_count_patch/6_25_gps.png\n",
      "Renamed: datasets/dataset_time/GPS/time_count_patch/13_45_mask.png -> datasets/dataset_time/GPS/time_count_patch/13_45_gps.png\n",
      "Renamed: datasets/dataset_time/GPS/time_count_patch/7_29_mask.png -> datasets/dataset_time/GPS/time_count_patch/7_29_gps.png\n",
      "Renamed: datasets/dataset_time/GPS/time_count_patch/45_54_mask.png -> datasets/dataset_time/GPS/time_count_patch/45_54_gps.png\n",
      "Renamed: datasets/dataset_time/GPS/time_count_patch/31_44_mask.png -> datasets/dataset_time/GPS/time_count_patch/31_44_gps.png\n",
      "Renamed: datasets/dataset_time/GPS/time_count_patch/5_25_mask.png -> datasets/dataset_time/GPS/time_count_patch/5_25_gps.png\n",
      "Renamed: datasets/dataset_time/GPS/time_count_patch/20_5_mask.png -> datasets/dataset_time/GPS/time_count_patch/20_5_gps.png\n",
      "Renamed: datasets/dataset_time/GPS/time_count_patch/2_16_mask.png -> datasets/dataset_time/GPS/time_count_patch/2_16_gps.png\n",
      "Renamed: datasets/dataset_time/GPS/time_count_patch/38_12_mask.png -> datasets/dataset_time/GPS/time_count_patch/38_12_gps.png\n",
      "Renamed: datasets/dataset_time/GPS/time_count_patch/31_42_mask.png -> datasets/dataset_time/GPS/time_count_patch/31_42_gps.png\n",
      "Renamed: datasets/dataset_time/GPS/time_count_patch/32_6_mask.png -> datasets/dataset_time/GPS/time_count_patch/32_6_gps.png\n",
      "Renamed: datasets/dataset_time/GPS/time_count_patch/25_21_mask.png -> datasets/dataset_time/GPS/time_count_patch/25_21_gps.png\n",
      "Renamed: datasets/dataset_time/GPS/time_count_patch/35_25_mask.png -> datasets/dataset_time/GPS/time_count_patch/35_25_gps.png\n",
      "Renamed: datasets/dataset_time/GPS/time_count_patch/7_16_mask.png -> datasets/dataset_time/GPS/time_count_patch/7_16_gps.png\n",
      "Renamed: datasets/dataset_time/GPS/time_count_patch/30_33_mask.png -> datasets/dataset_time/GPS/time_count_patch/30_33_gps.png\n",
      "Renamed: datasets/dataset_time/GPS/time_count_patch/13_43_mask.png -> datasets/dataset_time/GPS/time_count_patch/13_43_gps.png\n",
      "Renamed: datasets/dataset_time/GPS/time_count_patch/4_24_mask.png -> datasets/dataset_time/GPS/time_count_patch/4_24_gps.png\n",
      "Renamed: datasets/dataset_time/GPS/time_count_patch/33_24_mask.png -> datasets/dataset_time/GPS/time_count_patch/33_24_gps.png\n",
      "Renamed: datasets/dataset_time/GPS/time_count_patch/18_42_mask.png -> datasets/dataset_time/GPS/time_count_patch/18_42_gps.png\n",
      "Renamed: datasets/dataset_time/GPS/time_count_patch/41_21_mask.png -> datasets/dataset_time/GPS/time_count_patch/41_21_gps.png\n",
      "Renamed: datasets/dataset_time/GPS/time_count_patch/2_47_mask.png -> datasets/dataset_time/GPS/time_count_patch/2_47_gps.png\n",
      "Renamed: datasets/dataset_time/GPS/time_count_patch/29_7_mask.png -> datasets/dataset_time/GPS/time_count_patch/29_7_gps.png\n",
      "Renamed: datasets/dataset_time/GPS/time_count_patch/6_47_mask.png -> datasets/dataset_time/GPS/time_count_patch/6_47_gps.png\n",
      "Renamed: datasets/dataset_time/GPS/time_count_patch/29_6_mask.png -> datasets/dataset_time/GPS/time_count_patch/29_6_gps.png\n",
      "Renamed: datasets/dataset_time/GPS/time_count_patch/10_31_mask.png -> datasets/dataset_time/GPS/time_count_patch/10_31_gps.png\n",
      "Renamed: datasets/dataset_time/GPS/time_count_patch/4_25_mask.png -> datasets/dataset_time/GPS/time_count_patch/4_25_gps.png\n",
      "Renamed: datasets/dataset_time/GPS/time_count_patch/29_34_mask.png -> datasets/dataset_time/GPS/time_count_patch/29_34_gps.png\n",
      "Renamed: datasets/dataset_time/GPS/time_count_patch/14_40_mask.png -> datasets/dataset_time/GPS/time_count_patch/14_40_gps.png\n",
      "Renamed: datasets/dataset_time/GPS/time_count_patch/1_54_mask.png -> datasets/dataset_time/GPS/time_count_patch/1_54_gps.png\n",
      "Renamed: datasets/dataset_time/GPS/time_count_patch/0_55_mask.png -> datasets/dataset_time/GPS/time_count_patch/0_55_gps.png\n",
      "Renamed: datasets/dataset_time/GPS/time_count_patch/26_31_mask.png -> datasets/dataset_time/GPS/time_count_patch/26_31_gps.png\n",
      "Renamed: datasets/dataset_time/GPS/time_count_patch/3_18_mask.png -> datasets/dataset_time/GPS/time_count_patch/3_18_gps.png\n",
      "Renamed: datasets/dataset_time/GPS/time_count_patch/5_8_mask.png -> datasets/dataset_time/GPS/time_count_patch/5_8_gps.png\n",
      "Renamed: datasets/dataset_time/GPS/time_count_patch/6_24_mask.png -> datasets/dataset_time/GPS/time_count_patch/6_24_gps.png\n",
      "Renamed: datasets/dataset_time/GPS/time_count_patch/41_20_mask.png -> datasets/dataset_time/GPS/time_count_patch/41_20_gps.png\n",
      "Renamed: datasets/dataset_time/GPS/time_count_patch/32_24_mask.png -> datasets/dataset_time/GPS/time_count_patch/32_24_gps.png\n",
      "Renamed: datasets/dataset_time/GPS/time_count_patch/4_33_mask.png -> datasets/dataset_time/GPS/time_count_patch/4_33_gps.png\n",
      "Renamed: datasets/dataset_time/GPS/time_count_patch/1_36_mask.png -> datasets/dataset_time/GPS/time_count_patch/1_36_gps.png\n",
      "Renamed: datasets/dataset_time/GPS/time_count_patch/32_25_mask.png -> datasets/dataset_time/GPS/time_count_patch/32_25_gps.png\n",
      "Renamed: datasets/dataset_time/GPS/time_count_patch/19_56_mask.png -> datasets/dataset_time/GPS/time_count_patch/19_56_gps.png\n",
      "Renamed: datasets/dataset_time/GPS/time_count_patch/34_20_mask.png -> datasets/dataset_time/GPS/time_count_patch/34_20_gps.png\n",
      "Renamed: datasets/dataset_time/GPS/time_count_patch/7_42_mask.png -> datasets/dataset_time/GPS/time_count_patch/7_42_gps.png\n",
      "Renamed: datasets/dataset_time/GPS/time_count_patch/2_44_mask.png -> datasets/dataset_time/GPS/time_count_patch/2_44_gps.png\n",
      "Renamed: datasets/dataset_time/GPS/time_count_patch/9_25_mask.png -> datasets/dataset_time/GPS/time_count_patch/9_25_gps.png\n",
      "Renamed: datasets/dataset_time/GPS/time_count_patch/2_45_mask.png -> datasets/dataset_time/GPS/time_count_patch/2_45_gps.png\n",
      "Renamed: datasets/dataset_time/GPS/time_count_patch/39_43_mask.png -> datasets/dataset_time/GPS/time_count_patch/39_43_gps.png\n",
      "Renamed: datasets/dataset_time/GPS/time_count_patch/36_46_mask.png -> datasets/dataset_time/GPS/time_count_patch/36_46_gps.png\n",
      "Renamed: datasets/dataset_time/GPS/time_count_patch/19_40_mask.png -> datasets/dataset_time/GPS/time_count_patch/19_40_gps.png\n",
      "Renamed: datasets/dataset_time/GPS/time_count_patch/19_57_mask.png -> datasets/dataset_time/GPS/time_count_patch/19_57_gps.png\n",
      "Renamed: datasets/dataset_time/GPS/time_count_patch/21_29_mask.png -> datasets/dataset_time/GPS/time_count_patch/21_29_gps.png\n",
      "Renamed: datasets/dataset_time/GPS/time_count_patch/30_45_mask.png -> datasets/dataset_time/GPS/time_count_patch/30_45_gps.png\n",
      "Renamed: datasets/dataset_time/GPS/time_count_patch/3_16_mask.png -> datasets/dataset_time/GPS/time_count_patch/3_16_gps.png\n",
      "Renamed: datasets/dataset_time/GPS/time_count_patch/7_43_mask.png -> datasets/dataset_time/GPS/time_count_patch/7_43_gps.png\n",
      "Renamed: datasets/dataset_time/GPS/time_count_patch/37_41_mask.png -> datasets/dataset_time/GPS/time_count_patch/37_41_gps.png\n",
      "Renamed: datasets/dataset_time/GPS/time_count_patch/31_39_mask.png -> datasets/dataset_time/GPS/time_count_patch/31_39_gps.png\n",
      "Renamed: datasets/dataset_time/GPS/time_count_patch/40_21_mask.png -> datasets/dataset_time/GPS/time_count_patch/40_21_gps.png\n",
      "Renamed: datasets/dataset_time/GPS/time_count_patch/35_41_mask.png -> datasets/dataset_time/GPS/time_count_patch/35_41_gps.png\n",
      "Renamed: datasets/dataset_time/GPS/time_count_patch/21_31_mask.png -> datasets/dataset_time/GPS/time_count_patch/21_31_gps.png\n",
      "Renamed: datasets/dataset_time/GPS/time_count_patch/1_21_mask.png -> datasets/dataset_time/GPS/time_count_patch/1_21_gps.png\n",
      "Renamed: datasets/dataset_time/GPS/time_count_patch/8_10_mask.png -> datasets/dataset_time/GPS/time_count_patch/8_10_gps.png\n",
      "Renamed: datasets/dataset_time/GPS/time_count_patch/41_17_mask.png -> datasets/dataset_time/GPS/time_count_patch/41_17_gps.png\n",
      "Renamed: datasets/dataset_time/GPS/time_count_patch/35_21_mask.png -> datasets/dataset_time/GPS/time_count_patch/35_21_gps.png\n",
      "Renamed: datasets/dataset_time/GPS/time_count_patch/28_12_mask.png -> datasets/dataset_time/GPS/time_count_patch/28_12_gps.png\n",
      "Renamed: datasets/dataset_time/GPS/time_count_patch/32_7_mask.png -> datasets/dataset_time/GPS/time_count_patch/32_7_gps.png\n",
      "Renamed: datasets/dataset_time/GPS/time_count_patch/20_51_mask.png -> datasets/dataset_time/GPS/time_count_patch/20_51_gps.png\n",
      "Renamed: datasets/dataset_time/GPS/time_count_patch/6_33_mask.png -> datasets/dataset_time/GPS/time_count_patch/6_33_gps.png\n",
      "Renamed: datasets/dataset_time/GPS/time_count_patch/15_41_mask.png -> datasets/dataset_time/GPS/time_count_patch/15_41_gps.png\n",
      "Renamed: datasets/dataset_time/GPS/time_count_patch/0_52_mask.png -> datasets/dataset_time/GPS/time_count_patch/0_52_gps.png\n",
      "Renamed: datasets/dataset_time/GPS/time_count_patch/5_24_mask.png -> datasets/dataset_time/GPS/time_count_patch/5_24_gps.png\n",
      "Renamed: datasets/dataset_time/GPS/time_count_patch/38_42_mask.png -> datasets/dataset_time/GPS/time_count_patch/38_42_gps.png\n",
      "Renamed: datasets/dataset_time/GPS/time_count_patch/17_14_mask.png -> datasets/dataset_time/GPS/time_count_patch/17_14_gps.png\n",
      "Renamed: datasets/dataset_time/GPS/time_count_patch/2_17_mask.png -> datasets/dataset_time/GPS/time_count_patch/2_17_gps.png\n",
      "Renamed: datasets/dataset_time/GPS/time_count_patch/1_9_mask.png -> datasets/dataset_time/GPS/time_count_patch/1_9_gps.png\n",
      "Renamed: datasets/dataset_time/GPS/time_count_patch/10_48_mask.png -> datasets/dataset_time/GPS/time_count_patch/10_48_gps.png\n",
      "Renamed: datasets/dataset_time/GPS/time_count_patch/12_51_mask.png -> datasets/dataset_time/GPS/time_count_patch/12_51_gps.png\n",
      "Renamed: datasets/dataset_time/GPS/time_count_patch/7_28_mask.png -> datasets/dataset_time/GPS/time_count_patch/7_28_gps.png\n",
      "Renamed: datasets/dataset_time/GPS/time_count_patch/6_21_mask.png -> datasets/dataset_time/GPS/time_count_patch/6_21_gps.png\n",
      "Renamed: datasets/dataset_time/GPS/time_count_patch/13_51_mask.png -> datasets/dataset_time/GPS/time_count_patch/13_51_gps.png\n",
      "Renamed: datasets/dataset_time/GPS/time_count_patch/0_54_mask.png -> datasets/dataset_time/GPS/time_count_patch/0_54_gps.png\n",
      "Renamed: datasets/dataset_time/GPS/time_count_patch/1_18_mask.png -> datasets/dataset_time/GPS/time_count_patch/1_18_gps.png\n",
      "Renamed: datasets/dataset_time/GPS/time_count_patch/14_31_mask.png -> datasets/dataset_time/GPS/time_count_patch/14_31_gps.png\n",
      "Renamed: datasets/dataset_time/GPS/time_count_patch/6_46_mask.png -> datasets/dataset_time/GPS/time_count_patch/6_46_gps.png\n",
      "Renamed: datasets/dataset_time/GPS/time_count_patch/39_42_mask.png -> datasets/dataset_time/GPS/time_count_patch/39_42_gps.png\n",
      "Renamed: datasets/dataset_time/GPS/time_count_patch/31_43_mask.png -> datasets/dataset_time/GPS/time_count_patch/31_43_gps.png\n",
      "Renamed: datasets/dataset_time/GPS/time_count_patch/15_31_mask.png -> datasets/dataset_time/GPS/time_count_patch/15_31_gps.png\n",
      "Renamed: datasets/dataset_time/GPS/time_count_patch/0_8_mask.png -> datasets/dataset_time/GPS/time_count_patch/0_8_gps.png\n",
      "Renamed: datasets/dataset_time/GPS/time_count_patch/22_50_mask.png -> datasets/dataset_time/GPS/time_count_patch/22_50_gps.png\n",
      "Renamed: datasets/dataset_time/GPS/time_count_patch/14_30_mask.png -> datasets/dataset_time/GPS/time_count_patch/14_30_gps.png\n",
      "Renamed: datasets/dataset_time/GPS/time_count_patch/19_42_mask.png -> datasets/dataset_time/GPS/time_count_patch/19_42_gps.png\n",
      "Renamed: datasets/dataset_time/GPS/time_count_patch/19_31_mask.png -> datasets/dataset_time/GPS/time_count_patch/19_31_gps.png\n",
      "Renamed: datasets/dataset_time/GPS/time_count_patch/7_17_mask.png -> datasets/dataset_time/GPS/time_count_patch/7_17_gps.png\n",
      "Renamed: datasets/dataset_time/GPS/time_count_patch/2_46_mask.png -> datasets/dataset_time/GPS/time_count_patch/2_46_gps.png\n",
      "Renamed: datasets/dataset_time/GPS/time_count_patch/18_41_mask.png -> datasets/dataset_time/GPS/time_count_patch/18_41_gps.png\n",
      "Renamed: datasets/dataset_time/GPS/time_count_patch/24_21_mask.png -> datasets/dataset_time/GPS/time_count_patch/24_21_gps.png\n",
      "Renamed: datasets/dataset_time/GPS/time_count_patch/0_18_mask.png -> datasets/dataset_time/GPS/time_count_patch/0_18_gps.png\n",
      "Renamed: datasets/dataset_time/GPS/time_count_patch/0_57_mask.png -> datasets/dataset_time/GPS/time_count_patch/0_57_gps.png\n",
      "Renamed: datasets/dataset_time/GPS/time_count_patch/8_22_mask.png -> datasets/dataset_time/GPS/time_count_patch/8_22_gps.png\n",
      "Renamed: datasets/dataset_time/GPS/time_count_patch/31_45_mask.png -> datasets/dataset_time/GPS/time_count_patch/31_45_gps.png\n",
      "Renamed: datasets/dataset_time/GPS/time_count_patch/38_13_mask.png -> datasets/dataset_time/GPS/time_count_patch/38_13_gps.png\n",
      "Renamed: datasets/dataset_time/GPS/time_count_patch/5_16_mask.png -> datasets/dataset_time/GPS/time_count_patch/5_16_gps.png\n",
      "Renamed: datasets/dataset_time/GPS/time_count_patch/21_35_mask.png -> datasets/dataset_time/GPS/time_count_patch/21_35_gps.png\n",
      "Renamed: datasets/dataset_time/GPS/time_count_patch/38_43_mask.png -> datasets/dataset_time/GPS/time_count_patch/38_43_gps.png\n",
      "Renamed: datasets/dataset_time/GPS/time_count_patch/41_11_mask.png -> datasets/dataset_time/GPS/time_count_patch/41_11_gps.png\n",
      "Renamed: datasets/dataset_time/GPS/time_count_patch/35_28_mask.png -> datasets/dataset_time/GPS/time_count_patch/35_28_gps.png\n",
      "Renamed: datasets/dataset_time/GPS/time_count_patch/0_19_mask.png -> datasets/dataset_time/GPS/time_count_patch/0_19_gps.png\n",
      "Renamed: datasets/dataset_time/GPS/time_count_patch/4_16_mask.png -> datasets/dataset_time/GPS/time_count_patch/4_16_gps.png\n",
      "Renamed: datasets/dataset_time/GPS/time_count_patch/21_43_mask.png -> datasets/dataset_time/GPS/time_count_patch/21_43_gps.png\n",
      "Renamed: datasets/dataset_time/GPS/time_count_patch/30_32_mask.png -> datasets/dataset_time/GPS/time_count_patch/30_32_gps.png\n",
      "Renamed: datasets/dataset_time/GPS/time_count_patch/29_12_mask.png -> datasets/dataset_time/GPS/time_count_patch/29_12_gps.png\n",
      "Renamed: datasets/dataset_time/GPS/time_count_patch/9_24_mask.png -> datasets/dataset_time/GPS/time_count_patch/9_24_gps.png\n",
      "Renamed: datasets/dataset_time/GPS/time_count_patch/10_49_mask.png -> datasets/dataset_time/GPS/time_count_patch/10_49_gps.png\n",
      "Renamed: datasets/dataset_time/GPS/time_count_patch/21_51_mask.png -> datasets/dataset_time/GPS/time_count_patch/21_51_gps.png\n",
      "Renamed: datasets/dataset_time/GPS/time_count_patch/41_10_mask.png -> datasets/dataset_time/GPS/time_count_patch/41_10_gps.png\n",
      "Renamed: datasets/dataset_time/GPS/time_count_patch/22_39_mask.png -> datasets/dataset_time/GPS/time_count_patch/22_39_gps.png\n",
      "Renamed: datasets/dataset_time/GPS/time_count_patch/20_41_mask.png -> datasets/dataset_time/GPS/time_count_patch/20_41_gps.png\n",
      "Renamed: datasets/dataset_time/GPS/time_count_patch/20_30_mask.png -> datasets/dataset_time/GPS/time_count_patch/20_30_gps.png\n",
      "Renamed: datasets/dataset_time/GPS/time_count_patch/10_39_mask.png -> datasets/dataset_time/GPS/time_count_patch/10_39_gps.png\n",
      "Renamed: datasets/dataset_time/GPS/time_count_patch/27_9_mask.png -> datasets/dataset_time/GPS/time_count_patch/27_9_gps.png\n",
      "Renamed: datasets/dataset_time/GPS/time_count_patch/20_50_mask.png -> datasets/dataset_time/GPS/time_count_patch/20_50_gps.png\n",
      "Renamed: datasets/dataset_time/GPS/time_count_patch/21_50_mask.png -> datasets/dataset_time/GPS/time_count_patch/21_50_gps.png\n",
      "Renamed: datasets/dataset_time/GPS/time_count_patch/1_24_mask.png -> datasets/dataset_time/GPS/time_count_patch/1_24_gps.png\n",
      "Renamed: datasets/dataset_time/GPS/time_count_patch/8_11_mask.png -> datasets/dataset_time/GPS/time_count_patch/8_11_gps.png\n",
      "Renamed: datasets/dataset_time/GPS/time_count_patch/0_13_mask.png -> datasets/dataset_time/GPS/time_count_patch/0_13_gps.png\n",
      "Renamed: datasets/dataset_time/GPS/time_count_patch/18_31_mask.png -> datasets/dataset_time/GPS/time_count_patch/18_31_gps.png\n",
      "Renamed: datasets/dataset_time/GPS/time_count_patch/8_25_mask.png -> datasets/dataset_time/GPS/time_count_patch/8_25_gps.png\n",
      "Renamed: datasets/dataset_time/GPS/time_count_patch/15_43_mask.png -> datasets/dataset_time/GPS/time_count_patch/15_43_gps.png\n",
      "Renamed: datasets/dataset_time/GPS/time_count_patch/16_2_mask.png -> datasets/dataset_time/GPS/time_count_patch/16_2_gps.png\n",
      "Renamed: datasets/dataset_time/GPS/time_count_patch/21_40_mask.png -> datasets/dataset_time/GPS/time_count_patch/21_40_gps.png\n",
      "Renamed: datasets/dataset_time/GPS/time_count_patch/3_17_mask.png -> datasets/dataset_time/GPS/time_count_patch/3_17_gps.png\n",
      "Renamed: datasets/dataset_time/GPS/time_count_patch/27_38_mask.png -> datasets/dataset_time/GPS/time_count_patch/27_38_gps.png\n",
      "Renamed: datasets/dataset_time/GPS/time_count_patch/12_30_mask.png -> datasets/dataset_time/GPS/time_count_patch/12_30_gps.png\n",
      "Renamed: datasets/dataset_time/GPS/time_count_patch/16_15_mask.png -> datasets/dataset_time/GPS/time_count_patch/16_15_gps.png\n",
      "Renamed: datasets/dataset_time/GPS/time_count_patch/21_5_mask.png -> datasets/dataset_time/GPS/time_count_patch/21_5_gps.png\n",
      "Renamed: datasets/dataset_time/GPS/time_count_patch/31_33_mask.png -> datasets/dataset_time/GPS/time_count_patch/31_33_gps.png\n",
      "Renamed: datasets/dataset_time/GPS/time_count_patch/16_14_mask.png -> datasets/dataset_time/GPS/time_count_patch/16_14_gps.png\n",
      "Renamed: datasets/dataset_time/GPS/time_count_patch/28_35_mask.png -> datasets/dataset_time/GPS/time_count_patch/28_35_gps.png\n",
      "Renamed: datasets/dataset_time/GPS/time_count_patch/31_7_mask.png -> datasets/dataset_time/GPS/time_count_patch/31_7_gps.png\n",
      "Renamed: datasets/dataset_time/GPS/time_count_patch/10_38_mask.png -> datasets/dataset_time/GPS/time_count_patch/10_38_gps.png\n",
      "Renamed: datasets/dataset_time/GPS/time_count_patch/0_9_mask.png -> datasets/dataset_time/GPS/time_count_patch/0_9_gps.png\n",
      "Renamed: datasets/dataset_time/GPS/time_count_patch/41_16_mask.png -> datasets/dataset_time/GPS/time_count_patch/41_16_gps.png\n",
      "Renamed: datasets/dataset_time/GPS/time_count_patch/3_47_mask.png -> datasets/dataset_time/GPS/time_count_patch/3_47_gps.png\n",
      "Renamed: datasets/dataset_time/GPS/time_count_patch/28_6_mask.png -> datasets/dataset_time/GPS/time_count_patch/28_6_gps.png\n",
      "Renamed: datasets/dataset_time/GPS/time_count_patch/0_12_mask.png -> datasets/dataset_time/GPS/time_count_patch/0_12_gps.png\n",
      "Renamed: datasets/dataset_time/GPS/time_count_patch/33_37_mask.png -> datasets/dataset_time/GPS/time_count_patch/33_37_gps.png\n",
      "Renamed: datasets/dataset_time/GPS/time_count_patch/14_42_mask.png -> datasets/dataset_time/GPS/time_count_patch/14_42_gps.png\n",
      "Renamed: datasets/dataset_time/GPS/time_count_patch/9_22_mask.png -> datasets/dataset_time/GPS/time_count_patch/9_22_gps.png\n",
      "Renamed: datasets/dataset_time/GPS/time_count_patch/39_13_mask.png -> datasets/dataset_time/GPS/time_count_patch/39_13_gps.png\n",
      "Renamed: datasets/dataset_time/GPS/time_count_patch/12_50_mask.png -> datasets/dataset_time/GPS/time_count_patch/12_50_gps.png\n",
      "Renamed: datasets/dataset_time/GPS/time_count_patch/30_6_mask.png -> datasets/dataset_time/GPS/time_count_patch/30_6_gps.png\n",
      "Renamed: datasets/dataset_time/GPS/time_count_patch/19_34_mask.png -> datasets/dataset_time/GPS/time_count_patch/19_34_gps.png\n",
      "Renamed: datasets/dataset_time/GPS/time_count_patch/1_52_mask.png -> datasets/dataset_time/GPS/time_count_patch/1_52_gps.png\n",
      "Renamed: datasets/dataset_time/GPS/time_count_patch/0_11_mask.png -> datasets/dataset_time/GPS/time_count_patch/0_11_gps.png\n",
      "Renamed: datasets/dataset_time/GPS/time_count_patch/9_16_mask.png -> datasets/dataset_time/GPS/time_count_patch/9_16_gps.png\n",
      "Renamed: datasets/dataset_time/GPS/time_count_patch/4_8_mask.png -> datasets/dataset_time/GPS/time_count_patch/4_8_gps.png\n",
      "Renamed: datasets/dataset_time/GPS/time_count_patch/23_38_mask.png -> datasets/dataset_time/GPS/time_count_patch/23_38_gps.png\n",
      "Renamed: datasets/dataset_time/GPS/time_count_patch/33_36_mask.png -> datasets/dataset_time/GPS/time_count_patch/33_36_gps.png\n",
      "Renamed: datasets/dataset_time/GPS/time_count_patch/7_46_mask.png -> datasets/dataset_time/GPS/time_count_patch/7_46_gps.png\n",
      "Renamed: datasets/dataset_time/GPS/time_count_patch/15_30_mask.png -> datasets/dataset_time/GPS/time_count_patch/15_30_gps.png\n",
      "Renamed: datasets/dataset_time/GPS/time_count_patch/39_12_mask.png -> datasets/dataset_time/GPS/time_count_patch/39_12_gps.png\n",
      "Renamed: datasets/dataset_time/GPS/time_count_patch/35_29_mask.png -> datasets/dataset_time/GPS/time_count_patch/35_29_gps.png\n",
      "Renamed: datasets/dataset_time/GPS/time_count_patch/16_3_mask.png -> datasets/dataset_time/GPS/time_count_patch/16_3_gps.png\n",
      "Renamed: datasets/dataset_time/GPS/time_count_patch/8_24_mask.png -> datasets/dataset_time/GPS/time_count_patch/8_24_gps.png\n",
      "Renamed: datasets/dataset_time/GPS/time_count_patch/24_20_mask.png -> datasets/dataset_time/GPS/time_count_patch/24_20_gps.png\n",
      "Renamed: datasets/dataset_time/GPS/time_count_patch/6_29_mask.png -> datasets/dataset_time/GPS/time_count_patch/6_29_gps.png\n",
      "Renamed: datasets/dataset_time/GPS/time_count_patch/5_33_mask.png -> datasets/dataset_time/GPS/time_count_patch/5_33_gps.png\n",
      "Renamed: datasets/dataset_time/GPS/time_count_patch/40_10_mask.png -> datasets/dataset_time/GPS/time_count_patch/40_10_gps.png\n",
      "Renamed: datasets/dataset_time/GPS/time_count_patch/36_19_mask.png -> datasets/dataset_time/GPS/time_count_patch/36_19_gps.png\n",
      "Renamed: datasets/dataset_time/GPS/time_count_patch/17_15_mask.png -> datasets/dataset_time/GPS/time_count_patch/17_15_gps.png\n",
      "Renamed: datasets/dataset_time/GPS/time_count_patch/0_56_mask.png -> datasets/dataset_time/GPS/time_count_patch/0_56_gps.png\n",
      "Renamed: datasets/dataset_time/GPS/time_count_patch/37_47_mask.png -> datasets/dataset_time/GPS/time_count_patch/37_47_gps.png\n",
      "Renamed: datasets/dataset_time/GPS/time_count_patch/6_28_mask.png -> datasets/dataset_time/GPS/time_count_patch/6_28_gps.png\n",
      "Renamed: datasets/dataset_time/GPS/time_count_patch/20_40_mask.png -> datasets/dataset_time/GPS/time_count_patch/20_40_gps.png\n",
      "Renamed: datasets/dataset_time/GPS/time_count_patch/26_39_mask.png -> datasets/dataset_time/GPS/time_count_patch/26_39_gps.png\n",
      "Renamed: datasets/dataset_time/GPS/time_count_patch/1_55_mask.png -> datasets/dataset_time/GPS/time_count_patch/1_55_gps.png\n",
      "Renamed: datasets/dataset_time/GPS/time_count_patch/30_7_mask.png -> datasets/dataset_time/GPS/time_count_patch/30_7_gps.png\n",
      "Renamed: datasets/dataset_time/GPS/time_count_patch/0_21_mask.png -> datasets/dataset_time/GPS/time_count_patch/0_21_gps.png\n",
      "Renamed: datasets/dataset_time/GPS/time_count_patch/33_6_mask.png -> datasets/dataset_time/GPS/time_count_patch/33_6_gps.png\n",
      "Renamed: datasets/dataset_time/GPS/time_count_patch/34_24_mask.png -> datasets/dataset_time/GPS/time_count_patch/34_24_gps.png\n",
      "Renamed: datasets/dataset_time/GPS/time_count_patch/1_8_mask.png -> datasets/dataset_time/GPS/time_count_patch/1_8_gps.png\n",
      "Renamed: datasets/dataset_time/GPS/time_count_patch/30_42_mask.png -> datasets/dataset_time/GPS/time_count_patch/30_42_gps.png\n",
      "Renamed: datasets/dataset_time/GPS/time_count_patch/0_24_mask.png -> datasets/dataset_time/GPS/time_count_patch/0_24_gps.png\n",
      "Renamed: datasets/dataset_time/GPS/time_count_patch/8_23_mask.png -> datasets/dataset_time/GPS/time_count_patch/8_23_gps.png\n",
      "Renamed: datasets/dataset_time/GPS/time_count_patch/20_31_mask.png -> datasets/dataset_time/GPS/time_count_patch/20_31_gps.png\n",
      "Renamed: datasets/dataset_time/GPS/time_count_patch/34_28_mask.png -> datasets/dataset_time/GPS/time_count_patch/34_28_gps.png\n",
      "Renamed: datasets/dataset_time/GPS/time_count_patch/5_17_mask.png -> datasets/dataset_time/GPS/time_count_patch/5_17_gps.png\n",
      "Renamed: datasets/dataset_time/GPS/time_count_patch/22_38_mask.png -> datasets/dataset_time/GPS/time_count_patch/22_38_gps.png\n",
      "Renamed: datasets/dataset_time/GPS/time_count_patch/27_39_mask.png -> datasets/dataset_time/GPS/time_count_patch/27_39_gps.png\n",
      "Renamed: datasets/dataset_time/GPS/time_count_patch/36_41_mask.png -> datasets/dataset_time/GPS/time_count_patch/36_41_gps.png\n",
      "Renamed: datasets/dataset_time/GPS/time_count_patch/6_42_mask.png -> datasets/dataset_time/GPS/time_count_patch/6_42_gps.png\n",
      "Renamed: datasets/dataset_time/GPS/time_count_patch/40_17_mask.png -> datasets/dataset_time/GPS/time_count_patch/40_17_gps.png\n",
      "Renamed: datasets/dataset_time/GPS/time_count_patch/34_29_mask.png -> datasets/dataset_time/GPS/time_count_patch/34_29_gps.png\n",
      "Renamed: datasets/dataset_time/GPS/time_count_patch/13_42_mask.png -> datasets/dataset_time/GPS/time_count_patch/13_42_gps.png\n",
      "Renamed: datasets/dataset_time/GPS/time_count_patch/35_24_mask.png -> datasets/dataset_time/GPS/time_count_patch/35_24_gps.png\n",
      "Renamed: datasets/dataset_time/GPS/time_count_patch/0_37_mask.png -> datasets/dataset_time/GPS/time_count_patch/0_37_gps.png\n",
      "Renamed: datasets/dataset_time/GPS/time_count_patch/7_38_mask.png -> datasets/dataset_time/GPS/time_count_patch/7_38_gps.png\n",
      "Renamed: datasets/dataset_time/GPS/time_count_patch/14_41_mask.png -> datasets/dataset_time/GPS/time_count_patch/14_41_gps.png\n",
      "Renamed: datasets/dataset_time/GPS/time_count_patch/15_40_mask.png -> datasets/dataset_time/GPS/time_count_patch/15_40_gps.png\n",
      "Renamed: datasets/dataset_time/GPS/time_count_patch/18_43_mask.png -> datasets/dataset_time/GPS/time_count_patch/18_43_gps.png\n",
      "Renamed: datasets/dataset_time/GPS/time_count_patch/12_31_mask.png -> datasets/dataset_time/GPS/time_count_patch/12_31_gps.png\n",
      "Renamed: datasets/dataset_time/GPS/time_count_patch/18_40_mask.png -> datasets/dataset_time/GPS/time_count_patch/18_40_gps.png\n",
      "Renamed: datasets/dataset_time/GPS/time_count_patch/30_38_mask.png -> datasets/dataset_time/GPS/time_count_patch/30_38_gps.png\n",
      "Renamed: datasets/dataset_time/GPS/time_count_patch/1_20_mask.png -> datasets/dataset_time/GPS/time_count_patch/1_20_gps.png\n",
      "Renamed: datasets/dataset_time/GPS/time_count_patch/3_44_mask.png -> datasets/dataset_time/GPS/time_count_patch/3_44_gps.png\n",
      "Renamed: datasets/dataset_time/GPS/time_count_patch/26_30_mask.png -> datasets/dataset_time/GPS/time_count_patch/26_30_gps.png\n",
      "Renamed: datasets/dataset_time/GPS/time_count_patch/19_43_mask.png -> datasets/dataset_time/GPS/time_count_patch/19_43_gps.png\n",
      "Renamed: datasets/dataset_time/GPS/time_count_patch/21_34_mask.png -> datasets/dataset_time/GPS/time_count_patch/21_34_gps.png\n",
      "Renamed: datasets/dataset_time/GPS/time_count_patch/31_32_mask.png -> datasets/dataset_time/GPS/time_count_patch/31_32_gps.png\n",
      "Renamed: datasets/dataset_time/GPS/time_count_patch/43_24_mask.png -> datasets/dataset_time/GPS/time_count_patch/43_24_gps.png\n",
      "Renamed: datasets/dataset_time/GPS/time_count_patch/31_38_mask.png -> datasets/dataset_time/GPS/time_count_patch/31_38_gps.png\n",
      "Renamed: datasets/dataset_time/GPS/time_count_patch/6_39_mask.png -> datasets/dataset_time/GPS/time_count_patch/6_39_gps.png\n",
      "Renamed: datasets/dataset_time/GPS/time_count_patch/18_35_mask.png -> datasets/dataset_time/GPS/time_count_patch/18_35_gps.png\n",
      "Renamed: datasets/dataset_time/GPS/time_count_patch/11_31_mask.png -> datasets/dataset_time/GPS/time_count_patch/11_31_gps.png\n",
      "Renamed: datasets/dataset_time/GPS/time_count_patch/11_48_mask.png -> datasets/dataset_time/GPS/time_count_patch/11_48_gps.png\n",
      "Renamed: datasets/dataset_time/GPS/time_count_patch/26_9_mask.png -> datasets/dataset_time/GPS/time_count_patch/26_9_gps.png\n",
      "Renamed: datasets/dataset_time/GPS/time_count_patch/9_17_mask.png -> datasets/dataset_time/GPS/time_count_patch/9_17_gps.png\n",
      "Renamed: datasets/dataset_time/GPS/time_count_patch/31_6_mask.png -> datasets/dataset_time/GPS/time_count_patch/31_6_gps.png\n",
      "Renamed: datasets/dataset_time/GPS/time_count_patch/7_24_mask.png -> datasets/dataset_time/GPS/time_count_patch/7_24_gps.png\n",
      "Renamed: datasets/dataset_time/GPS/time_count_patch/36_47_mask.png -> datasets/dataset_time/GPS/time_count_patch/36_47_gps.png\n",
      "Renamed: datasets/dataset_time/GPS/time_count_patch/28_7_mask.png -> datasets/dataset_time/GPS/time_count_patch/28_7_gps.png\n",
      "Renamed: datasets/dataset_time/GPS/time_count_patch/25_20_mask.png -> datasets/dataset_time/GPS/time_count_patch/25_20_gps.png\n",
      "Renamed: datasets/dataset_time/GPS/time_count_patch/4_21_mask.png -> datasets/dataset_time/GPS/time_count_patch/4_21_gps.png\n",
      "Renamed: datasets/dataset_time/GPS/time_count_patch/1_12_mask.png -> datasets/dataset_time/GPS/time_count_patch/1_12_gps.png\n",
      "Renamed: datasets/dataset_time/GPS/time_count_patch/4_32_mask.png -> datasets/dataset_time/GPS/time_count_patch/4_32_gps.png\n",
      "Renamed: datasets/dataset_time/GPS/time_count_patch/43_25_mask.png -> datasets/dataset_time/GPS/time_count_patch/43_25_gps.png\n",
      "Renamed: datasets/dataset_time/GPS/time_count_patch/11_39_mask.png -> datasets/dataset_time/GPS/time_count_patch/11_39_gps.png\n",
      "Renamed: datasets/dataset_time/GPS/time_count_patch/33_25_mask.png -> datasets/dataset_time/GPS/time_count_patch/33_25_gps.png\n",
      "Renamed: datasets/dataset_time/GPS/time_count_patch/40_20_mask.png -> datasets/dataset_time/GPS/time_count_patch/40_20_gps.png\n",
      "Renamed: datasets/dataset_time/GPS/time_count_patch/42_25_mask.png -> datasets/dataset_time/GPS/time_count_patch/42_25_gps.png\n",
      "Renamed: datasets/dataset_time/GPS/time_count_patch/36_18_mask.png -> datasets/dataset_time/GPS/time_count_patch/36_18_gps.png\n",
      "Renamed: datasets/dataset_time/GPS/time_count_patch/20_42_mask.png -> datasets/dataset_time/GPS/time_count_patch/20_42_gps.png\n",
      "Renamed: datasets/dataset_time/GPS/time_count_patch/42_24_mask.png -> datasets/dataset_time/GPS/time_count_patch/42_24_gps.png\n",
      "Renamed: datasets/dataset_time/GPS/time_count_patch/20_29_mask.png -> datasets/dataset_time/GPS/time_count_patch/20_29_gps.png\n",
      "Renamed: datasets/dataset_time/GPS/time_count_patch/34_21_mask.png -> datasets/dataset_time/GPS/time_count_patch/34_21_gps.png\n",
      "Renamed: datasets/dataset_time/GPS/time_count_patch/26_8_mask.png -> datasets/dataset_time/GPS/time_count_patch/26_8_gps.png\n",
      "Renamed: datasets/dataset_time/GPS/time_count_patch/40_11_mask.png -> datasets/dataset_time/GPS/time_count_patch/40_11_gps.png\n",
      "Renamed: datasets/dataset_time/GPS/time_count_patch/18_34_mask.png -> datasets/dataset_time/GPS/time_count_patch/18_34_gps.png\n",
      "Renamed: datasets/dataset_time/GPS/time_count_patch/36_40_mask.png -> datasets/dataset_time/GPS/time_count_patch/36_40_gps.png\n",
      "Renamed: datasets/dataset_time/GPS/time_count_patch/33_7_mask.png -> datasets/dataset_time/GPS/time_count_patch/33_7_gps.png\n",
      "Renamed: datasets/dataset_time/GPS/time_count_patch/23_51_mask.png -> datasets/dataset_time/GPS/time_count_patch/23_51_gps.png\n",
      "Renamed: datasets/dataset_time/GPS/time_count_patch/9_23_mask.png -> datasets/dataset_time/GPS/time_count_patch/9_23_gps.png\n",
      "Renamed: datasets/dataset_time/GPS/time_count_patch/17_3_mask.png -> datasets/dataset_time/GPS/time_count_patch/17_3_gps.png\n",
      "Renamed: datasets/dataset_time/GPS/time_count_patch/10_30_mask.png -> datasets/dataset_time/GPS/time_count_patch/10_30_gps.png\n",
      "Renamed: datasets/dataset_time/GPS/time_count_patch/37_19_mask.png -> datasets/dataset_time/GPS/time_count_patch/37_19_gps.png\n",
      "Renamed: datasets/dataset_time/GPS/time_count_patch/1_25_mask.png -> datasets/dataset_time/GPS/time_count_patch/1_25_gps.png\n",
      "Renamed: datasets/dataset_time/GPS/time_count_patch/27_31_mask.png -> datasets/dataset_time/GPS/time_count_patch/27_31_gps.png\n",
      "Renamed: datasets/dataset_time/GPS/time_count_patch/12_45_mask.png -> datasets/dataset_time/GPS/time_count_patch/12_45_gps.png\n",
      "Renamed: datasets/dataset_time/GPS/time_count_patch/44_55_mask.png -> datasets/dataset_time/GPS/time_count_patch/44_55_gps.png\n",
      "Renamed: datasets/dataset_time/GPS/time_count_patch/37_18_mask.png -> datasets/dataset_time/GPS/time_count_patch/37_18_gps.png\n",
      "Renamed: datasets/dataset_time/GPS/time_count_patch/34_25_mask.png -> datasets/dataset_time/GPS/time_count_patch/34_25_gps.png\n",
      "Renamed: datasets/dataset_time/GPS/time_count_patch/13_50_mask.png -> datasets/dataset_time/GPS/time_count_patch/13_50_gps.png\n",
      "Renamed: datasets/dataset_time/GPS/time_count_patch/12_43_mask.png -> datasets/dataset_time/GPS/time_count_patch/12_43_gps.png\n",
      "Renamed: datasets/dataset_time/GPS/time_count_patch/1_10_mask.png -> datasets/dataset_time/GPS/time_count_patch/1_10_gps.png\n",
      "Renamed: datasets/dataset_time/GPS/time_count_patch/13_30_mask.png -> datasets/dataset_time/GPS/time_count_patch/13_30_gps.png\n",
      "Renamed: datasets/dataset_time/GPS/time_count_patch/13_44_mask.png -> datasets/dataset_time/GPS/time_count_patch/13_44_gps.png\n",
      "Renamed: datasets/dataset_time/GPS/time_count_patch/3_46_mask.png -> datasets/dataset_time/GPS/time_count_patch/3_46_gps.png\n",
      "Renamed: datasets/dataset_time/GPS/time_count_patch/0_20_mask.png -> datasets/dataset_time/GPS/time_count_patch/0_20_gps.png\n",
      "Renamed: datasets/dataset_time/GPS/time_count_patch/30_39_mask.png -> datasets/dataset_time/GPS/time_count_patch/30_39_gps.png\n"
     ]
    }
   ],
   "source": [
    "# rename files\n",
    "import os\n",
    "\n",
    "def rename_files(directory):\n",
    "    for filename in os.listdir(directory):\n",
    "        if filename.endswith(\"_mask.png\"):\n",
    "            new_name = filename.replace(\"_mask.png\", \"_gps.png\")\n",
    "            old_path = os.path.join(directory, filename)\n",
    "            new_path = os.path.join(directory, new_name)\n",
    "            os.rename(old_path, new_path)\n",
    "            print(f'Renamed: {old_path} -> {new_path}')\n",
    "\n",
    "# Replace 'your_directory' with the path to the directory containing your files\n",
    "rename_files('datasets/dataset_time/GPS/time_count_patch/')\n"
   ]
  },
  {
   "cell_type": "code",
   "execution_count": 17,
   "metadata": {},
   "outputs": [
    {
     "name": "stderr",
     "output_type": "stream",
     "text": [
      "100%|██████████| 528/528 [02:37<00:00,  3.36it/s]"
     ]
    },
    {
     "name": "stdout",
     "output_type": "stream",
     "text": [
      "Average Wasserstein distance: 1593.92517488872\n"
     ]
    },
    {
     "name": "stderr",
     "output_type": "stream",
     "text": [
      "\n"
     ]
    }
   ],
   "source": [
    "# 2D Wasserstein distance\n",
    "import numpy as np\n",
    "from scipy.ndimage import distance_transform_edt\n",
    "from scipy.optimize import linear_sum_assignment\n",
    "from tqdm import tqdm\n",
    "\n",
    "def wasserstein_distance(image1, image2):\n",
    "    # Compute the Euclidean distance transform of the binary images\n",
    "    distance_map1 = distance_transform_edt(image1)\n",
    "    distance_map2 = distance_transform_edt(image2)\n",
    "\n",
    "    # Compute the cost matrix as the pairwise distances between non-zero pixels\n",
    "    nonzero_indices1 = np.transpose(np.nonzero(image1))\n",
    "    nonzero_indices2 = np.transpose(np.nonzero(image2))\n",
    "    cost_matrix = np.linalg.norm(nonzero_indices1[:, None] - nonzero_indices2, axis=2)\n",
    "\n",
    "    # Solve the assignment problem to find optimal pixel correspondences\n",
    "    row_indices, col_indices = linear_sum_assignment(cost_matrix)\n",
    "\n",
    "    # Calculate the Wasserstein distance\n",
    "    wasserstein_dist = np.sum(cost_matrix[row_indices, col_indices] *\n",
    "                              np.maximum(distance_map1[nonzero_indices1[row_indices, 0],\n",
    "                                                        nonzero_indices1[row_indices, 1]],\n",
    "                                         distance_map2[nonzero_indices2[col_indices, 0],\n",
    "                                                        nonzero_indices2[col_indices, 1]]))\n",
    "\n",
    "    return wasserstein_dist\n",
    "\n",
    "\n",
    "# # Example usage:\n",
    "# binary_image1 = np.array([[0, 0, 5],\n",
    "#                           [1, 0, 0],\n",
    "#                           [0, 1, 0]])\n",
    "# binary_image2 = np.array([[0, 1, 0],\n",
    "#                           [0, 0, 1],\n",
    "#                           [1, 0, 0]])\n",
    "# distance = wasserstein_distance(binary_image1, binary_image2)\n",
    "# print(\"Wasserstein Distance:\", distance)\n",
    "\n",
    "\n",
    "mask_path = \"datasets/sz_emd/mask\"\n",
    "pred_path = \"datasets/sz_emd/pred/sat_only\"\n",
    "\n",
    "distance = 0\n",
    "n = len(os.listdir(pred_path))\n",
    "for filename in tqdm(os.listdir(pred_path)):\n",
    "    if filename.endswith(\".png\"):\n",
    "        pred_image = cv2.imread(os.path.join(pred_path, filename), cv2.IMREAD_GRAYSCALE)\n",
    "        mask_image = cv2.imread(os.path.join(mask_path, f\"{filename[:-4]}_mask.png\"), cv2.IMREAD_GRAYSCALE)\n",
    "        distance += wasserstein_distance(pred_image, mask_image)\n",
    "average_distance = distance / n\n",
    "print(f'Average Wasserstein distance: {average_distance}')"
   ]
  },
  {
   "cell_type": "code",
   "execution_count": 2,
   "metadata": {},
   "outputs": [],
   "source": [
    "# Write average_distance to CSV file\n",
    "import csv\n",
    "# File path to save the CSV file\n",
    "csv_file_path = \"./emd.csv\"\n",
    "# Write average_distance to CSV file\n",
    "average_distance = 0.5\n",
    "for i in range(10):\n",
    "    with open(csv_file_path, mode='a', newline='') as file:\n",
    "        writer = csv.writer(file)\n",
    "        writer.writerow([i, average_distance])"
   ]
  },
  {
   "cell_type": "code",
   "execution_count": 6,
   "metadata": {},
   "outputs": [
    {
     "name": "stdout",
     "output_type": "stream",
     "text": [
      "Filename with the highest epoch number: epoch53_val0.6260_test0.9428_0.6776_0.7511_0.5538_0.7096_0.0116.pth\n"
     ]
    }
   ],
   "source": [
    "# find the filename with the highest epoch number\n",
    "import os\n",
    "import re\n",
    "\n",
    "file_path = \"./weights_sz_v1/dlink34_sat_gpsimage_gaussian_ltqs_log__\"\n",
    "\n",
    "# Regular expression pattern to match the epoch number\n",
    "pattern = r'epoch(\\d+)_'\n",
    "\n",
    "# Initialize variables to store the maximum epoch number and corresponding filename\n",
    "max_epoch = 0\n",
    "max_epoch_filename = \"\"\n",
    "\n",
    "# Iterate through filenames\n",
    "for filename in os.listdir(file_path):\n",
    "    # Check if the filename is not \"prediction\"\n",
    "    if filename.endswith(\".pth\"):\n",
    "        # Extract epoch number\n",
    "        match = re.search(pattern, filename)\n",
    "        if match:\n",
    "            epoch_number = int(match.group(1))\n",
    "            # Update max_epoch and max_epoch_filename if the current epoch number is higher\n",
    "            if epoch_number > max_epoch:\n",
    "                max_epoch = epoch_number\n",
    "                max_epoch_filename = filename\n",
    "\n",
    "# Print the filename with the highest epoch number\n",
    "print(\"Filename with the highest epoch number:\", max_epoch_filename)"
   ]
  },
  {
   "cell_type": "code",
   "execution_count": null,
   "metadata": {},
   "outputs": [
    {
     "name": "stdout",
     "output_type": "stream",
     "text": [
      "1.0\n"
     ]
    }
   ],
   "source": [
    "# Calculate the Wasserstein distance between two 1D arrays\n",
    "\n",
    "from scipy.stats import wasserstein_distance\n",
    "u = [0, 1, 2, 3]\n",
    "v = [0, 1, 2, 3]\n",
    "\n",
    "dis = wasserstein_distance(u, v, [0,0,1,0], [1, 1, 1, 1])\n",
    "print(dis)"
   ]
  },
  {
   "cell_type": "code",
   "execution_count": null,
   "metadata": {},
   "outputs": [],
   "source": [
    "# transpose mask from 1024x1024 to 128x128\n",
    "\n",
    "import cv2\n",
    "import os\n",
    "import sys\n",
    "sys.path.append('..')\n",
    "\n",
    "def transpose_image(input_path, output_path):\n",
    "    # Read the input image\n",
    "    img = cv2.imread(input_path)\n",
    "\n",
    "    # Resize the image to 128x128 while maintaining aspect ratio\n",
    "    resized_img = cv2.resize(img, (128, 128), interpolation=cv2.INTER_AREA)\n",
    "\n",
    "    # Save the resized image\n",
    "    cv2.imwrite(output_path, resized_img)\n",
    "\n",
    "# Example usage:\n",
    "path = \"datasets/dataset_sz_grid/test/mask\"\n",
    "save_path = \"datasets/dataset_sz_grid/sz_2d_emd/mask\"\n",
    "iter = tqdm(os.listdir(path))\n",
    "for filename in iter:\n",
    "    if filename.endswith(\".png\"):\n",
    "        input_image_path = os.path.join(path, filename)\n",
    "        output_image_path = os.path.join(save_path, filename)\n",
    "        transpose_image(input_image_path, output_image_path)\n",
    "        iter.set_description_str(f\"Processing {filename}\")\n",
    "print(\"Done!\")"
   ]
  },
  {
   "cell_type": "code",
   "execution_count": 59,
   "metadata": {},
   "outputs": [
    {
     "name": "stdout",
     "output_type": "stream",
     "text": [
      "Calculating Wasserstein distance for weights_sz_v1:\n",
      "Model: unet\n",
      "Method: _gpsimage_only_gaussian_ltqs_log__\n"
     ]
    },
    {
     "name": "stderr",
     "output_type": "stream",
     "text": [
      "Processing 2011_9.png: 100%|██████████| 172/172 [00:02<00:00, 70.52it/s]\n"
     ]
    },
    {
     "name": "stdout",
     "output_type": "stream",
     "text": [
      "Method: _sat_gpsimage_gaussian_ltqs_log__\n"
     ]
    },
    {
     "name": "stderr",
     "output_type": "stream",
     "text": [
      "Processing 2011_9.png: 100%|██████████| 172/172 [00:02<00:00, 63.33it/s]\n"
     ]
    },
    {
     "name": "stdout",
     "output_type": "stream",
     "text": [
      "Model: resunet\n",
      "Method: _gpsimage_only_gaussian_ltqs_log__\n"
     ]
    },
    {
     "name": "stderr",
     "output_type": "stream",
     "text": [
      "Processing 2011_9.png: 100%|██████████| 172/172 [00:02<00:00, 64.43it/s]\n"
     ]
    },
    {
     "name": "stdout",
     "output_type": "stream",
     "text": [
      "Method: _sat_gpsimage_gaussian_ltqs_log__\n"
     ]
    },
    {
     "name": "stderr",
     "output_type": "stream",
     "text": [
      "Processing 2011_9.png: 100%|██████████| 172/172 [00:02<00:00, 63.66it/s]\n"
     ]
    },
    {
     "name": "stdout",
     "output_type": "stream",
     "text": [
      "Model: deeplabv3+\n",
      "Method: _gpsimage_only_gaussian_ltqs_log__\n"
     ]
    },
    {
     "name": "stderr",
     "output_type": "stream",
     "text": [
      "Processing 2011_9.png: 100%|██████████| 172/172 [00:02<00:00, 64.01it/s]\n"
     ]
    },
    {
     "name": "stdout",
     "output_type": "stream",
     "text": [
      "Method: _sat_gpsimage_gaussian_ltqs_log__\n"
     ]
    },
    {
     "name": "stderr",
     "output_type": "stream",
     "text": [
      "Processing 2011_9.png: 100%|██████████| 172/172 [00:02<00:00, 63.67it/s]\n"
     ]
    },
    {
     "name": "stdout",
     "output_type": "stream",
     "text": [
      "Model: linknet\n",
      "Method: _gpsimage_only_gaussian_ltqs_log__\n"
     ]
    },
    {
     "name": "stderr",
     "output_type": "stream",
     "text": [
      "Processing 2011_9.png: 100%|██████████| 172/172 [00:02<00:00, 59.66it/s]\n"
     ]
    },
    {
     "name": "stdout",
     "output_type": "stream",
     "text": [
      "Method: _sat_gpsimage_gaussian_ltqs_log__\n"
     ]
    },
    {
     "name": "stderr",
     "output_type": "stream",
     "text": [
      "Processing 2011_9.png: 100%|██████████| 172/172 [00:02<00:00, 70.63it/s]\n"
     ]
    },
    {
     "name": "stdout",
     "output_type": "stream",
     "text": [
      "Model: dlink34_1d\n",
      "Method: _gpsimage_only_gaussian_ltqs_log__\n"
     ]
    },
    {
     "name": "stderr",
     "output_type": "stream",
     "text": [
      "Processing 2011_9.png: 100%|██████████| 172/172 [00:02<00:00, 66.46it/s]\n"
     ]
    },
    {
     "name": "stdout",
     "output_type": "stream",
     "text": [
      "Method: _sat_gpsimage_gaussian_ltqs_log__\n"
     ]
    },
    {
     "name": "stderr",
     "output_type": "stream",
     "text": [
      "Processing 2011_9.png: 100%|██████████| 172/172 [00:02<00:00, 66.84it/s]\n"
     ]
    },
    {
     "name": "stdout",
     "output_type": "stream",
     "text": [
      "Model: dlink34\n",
      "Method: _gpsimage_only_gaussian_ltqs_log__\n"
     ]
    },
    {
     "name": "stderr",
     "output_type": "stream",
     "text": [
      "Processing 2011_9.png: 100%|██████████| 172/172 [00:02<00:00, 58.78it/s]\n"
     ]
    },
    {
     "name": "stdout",
     "output_type": "stream",
     "text": [
      "Method: _sat_gpsimage_gaussian_ltqs_log__\n"
     ]
    },
    {
     "name": "stderr",
     "output_type": "stream",
     "text": [
      "Processing 2011_9.png: 100%|██████████| 172/172 [00:02<00:00, 65.39it/s]\n"
     ]
    },
    {
     "name": "stdout",
     "output_type": "stream",
     "text": [
      "Calculating Wasserstein distance for weights_sz_v2:\n",
      "Model: unet\n",
      "Method: _gpsimage_only_gaussian_ltqs_log__\n"
     ]
    },
    {
     "name": "stderr",
     "output_type": "stream",
     "text": [
      "Processing 2011_9.png: 100%|██████████| 172/172 [00:02<00:00, 70.58it/s]\n"
     ]
    },
    {
     "name": "stdout",
     "output_type": "stream",
     "text": [
      "Method: _sat_gpsimage_gaussian_ltqs_log__\n"
     ]
    },
    {
     "name": "stderr",
     "output_type": "stream",
     "text": [
      "Processing 2011_9.png: 100%|██████████| 172/172 [00:02<00:00, 71.31it/s]\n"
     ]
    },
    {
     "name": "stdout",
     "output_type": "stream",
     "text": [
      "Model: resunet\n",
      "Method: _gpsimage_only_gaussian_ltqs_log__\n"
     ]
    },
    {
     "name": "stderr",
     "output_type": "stream",
     "text": [
      "Processing 2011_9.png: 100%|██████████| 172/172 [00:02<00:00, 70.88it/s]\n"
     ]
    },
    {
     "name": "stdout",
     "output_type": "stream",
     "text": [
      "Method: _sat_gpsimage_gaussian_ltqs_log__\n"
     ]
    },
    {
     "name": "stderr",
     "output_type": "stream",
     "text": [
      "Processing 2011_9.png: 100%|██████████| 172/172 [00:02<00:00, 68.36it/s]\n"
     ]
    },
    {
     "name": "stdout",
     "output_type": "stream",
     "text": [
      "Model: deeplabv3+\n",
      "Method: _gpsimage_only_gaussian_ltqs_log__\n"
     ]
    },
    {
     "name": "stderr",
     "output_type": "stream",
     "text": [
      "Processing 2011_9.png: 100%|██████████| 172/172 [00:02<00:00, 69.64it/s]\n"
     ]
    },
    {
     "name": "stdout",
     "output_type": "stream",
     "text": [
      "Method: _sat_gpsimage_gaussian_ltqs_log__\n"
     ]
    },
    {
     "name": "stderr",
     "output_type": "stream",
     "text": [
      "Processing 2011_9.png: 100%|██████████| 172/172 [00:02<00:00, 76.71it/s]\n"
     ]
    },
    {
     "name": "stdout",
     "output_type": "stream",
     "text": [
      "Model: linknet\n",
      "Method: _gpsimage_only_gaussian_ltqs_log__\n"
     ]
    },
    {
     "name": "stderr",
     "output_type": "stream",
     "text": [
      "Processing 2011_9.png: 100%|██████████| 172/172 [00:02<00:00, 65.04it/s]\n"
     ]
    },
    {
     "name": "stdout",
     "output_type": "stream",
     "text": [
      "Method: _sat_gpsimage_gaussian_ltqs_log__\n"
     ]
    },
    {
     "name": "stderr",
     "output_type": "stream",
     "text": [
      "Processing 2011_9.png: 100%|██████████| 172/172 [00:02<00:00, 72.77it/s]\n"
     ]
    },
    {
     "name": "stdout",
     "output_type": "stream",
     "text": [
      "Model: dlink34_1d\n",
      "Method: _gpsimage_only_gaussian_ltqs_log__\n"
     ]
    },
    {
     "name": "stderr",
     "output_type": "stream",
     "text": [
      "Processing 2011_9.png: 100%|██████████| 172/172 [00:02<00:00, 68.10it/s]\n"
     ]
    },
    {
     "name": "stdout",
     "output_type": "stream",
     "text": [
      "Method: _sat_gpsimage_gaussian_ltqs_log__\n"
     ]
    },
    {
     "name": "stderr",
     "output_type": "stream",
     "text": [
      "Processing 2011_9.png: 100%|██████████| 172/172 [00:02<00:00, 82.04it/s]\n"
     ]
    },
    {
     "name": "stdout",
     "output_type": "stream",
     "text": [
      "Model: dlink34\n",
      "Method: _gpsimage_only_gaussian_ltqs_log__\n"
     ]
    },
    {
     "name": "stderr",
     "output_type": "stream",
     "text": [
      "Processing 2011_9.png: 100%|██████████| 172/172 [00:02<00:00, 65.18it/s]\n"
     ]
    },
    {
     "name": "stdout",
     "output_type": "stream",
     "text": [
      "Method: _sat_gpsimage_gaussian_ltqs_log__\n"
     ]
    },
    {
     "name": "stderr",
     "output_type": "stream",
     "text": [
      "Processing 2011_9.png: 100%|██████████| 172/172 [00:02<00:00, 74.40it/s]\n"
     ]
    },
    {
     "name": "stdout",
     "output_type": "stream",
     "text": [
      "Calculating Wasserstein distance for weights_sz_v3:\n",
      "Model: unet\n",
      "Method: _gpsimage_only_gaussian_ltqs_log__\n"
     ]
    },
    {
     "name": "stderr",
     "output_type": "stream",
     "text": [
      "Processing 2011_9.png: 100%|██████████| 172/172 [00:02<00:00, 72.26it/s]\n"
     ]
    },
    {
     "name": "stdout",
     "output_type": "stream",
     "text": [
      "Method: _sat_gpsimage_gaussian_ltqs_log__\n"
     ]
    },
    {
     "name": "stderr",
     "output_type": "stream",
     "text": [
      "Processing 2011_9.png: 100%|██████████| 172/172 [00:02<00:00, 66.84it/s]\n"
     ]
    },
    {
     "name": "stdout",
     "output_type": "stream",
     "text": [
      "Model: resunet\n",
      "Method: _gpsimage_only_gaussian_ltqs_log__\n"
     ]
    },
    {
     "name": "stderr",
     "output_type": "stream",
     "text": [
      "Processing 2011_9.png: 100%|██████████| 172/172 [00:02<00:00, 68.83it/s]\n"
     ]
    },
    {
     "name": "stdout",
     "output_type": "stream",
     "text": [
      "Method: _sat_gpsimage_gaussian_ltqs_log__\n"
     ]
    },
    {
     "name": "stderr",
     "output_type": "stream",
     "text": [
      "Processing 2011_9.png: 100%|██████████| 172/172 [00:02<00:00, 68.66it/s]\n"
     ]
    },
    {
     "name": "stdout",
     "output_type": "stream",
     "text": [
      "Model: deeplabv3+\n",
      "Method: _gpsimage_only_gaussian_ltqs_log__\n"
     ]
    },
    {
     "name": "stderr",
     "output_type": "stream",
     "text": [
      "Processing 2011_9.png: 100%|██████████| 172/172 [00:02<00:00, 69.77it/s]\n"
     ]
    },
    {
     "name": "stdout",
     "output_type": "stream",
     "text": [
      "Method: _sat_gpsimage_gaussian_ltqs_log__\n"
     ]
    },
    {
     "name": "stderr",
     "output_type": "stream",
     "text": [
      "Processing 2011_9.png: 100%|██████████| 172/172 [00:02<00:00, 72.69it/s]\n"
     ]
    },
    {
     "name": "stdout",
     "output_type": "stream",
     "text": [
      "Model: linknet\n",
      "Method: _gpsimage_only_gaussian_ltqs_log__\n"
     ]
    },
    {
     "name": "stderr",
     "output_type": "stream",
     "text": [
      "Processing 2011_9.png: 100%|██████████| 172/172 [00:02<00:00, 71.93it/s]\n"
     ]
    },
    {
     "name": "stdout",
     "output_type": "stream",
     "text": [
      "Method: _sat_gpsimage_gaussian_ltqs_log__\n"
     ]
    },
    {
     "name": "stderr",
     "output_type": "stream",
     "text": [
      "Processing 2011_9.png: 100%|██████████| 172/172 [00:02<00:00, 70.45it/s]\n"
     ]
    },
    {
     "name": "stdout",
     "output_type": "stream",
     "text": [
      "Model: dlink34_1d\n",
      "Method: _gpsimage_only_gaussian_ltqs_log__\n"
     ]
    },
    {
     "name": "stderr",
     "output_type": "stream",
     "text": [
      "Processing 2011_9.png: 100%|██████████| 172/172 [00:02<00:00, 71.49it/s]\n"
     ]
    },
    {
     "name": "stdout",
     "output_type": "stream",
     "text": [
      "Method: _sat_gpsimage_gaussian_ltqs_log__\n"
     ]
    },
    {
     "name": "stderr",
     "output_type": "stream",
     "text": [
      "Processing 2011_9.png: 100%|██████████| 172/172 [00:02<00:00, 76.59it/s]\n"
     ]
    },
    {
     "name": "stdout",
     "output_type": "stream",
     "text": [
      "Model: dlink34\n",
      "Method: _gpsimage_only_gaussian_ltqs_log__\n"
     ]
    },
    {
     "name": "stderr",
     "output_type": "stream",
     "text": [
      "Processing 2011_9.png: 100%|██████████| 172/172 [00:02<00:00, 71.55it/s]\n"
     ]
    },
    {
     "name": "stdout",
     "output_type": "stream",
     "text": [
      "Method: _sat_gpsimage_gaussian_ltqs_log__\n"
     ]
    },
    {
     "name": "stderr",
     "output_type": "stream",
     "text": [
      "Processing 2011_9.png: 100%|██████████| 172/172 [00:02<00:00, 72.54it/s]"
     ]
    },
    {
     "name": "stdout",
     "output_type": "stream",
     "text": [
      "Done!\n"
     ]
    },
    {
     "name": "stderr",
     "output_type": "stream",
     "text": [
      "\n"
     ]
    }
   ],
   "source": [
    "# transpose the prediction of every model to 128x128\n",
    "import os\n",
    "from scipy.stats import wasserstein_distance\n",
    "import cv2\n",
    "import numpy as np\n",
    "import csv\n",
    "from tqdm import tqdm\n",
    "\n",
    "def transpose_image(input_path, output_path):\n",
    "    # Read the input image\n",
    "    img = cv2.imread(input_path)\n",
    "\n",
    "    # Resize the image to 128x128 while maintaining aspect ratio\n",
    "    resized_img = cv2.resize(img, (128, 128), interpolation=cv2.INTER_AREA)\n",
    "\n",
    "    # Save the resized image\n",
    "    cv2.imwrite(output_path, resized_img)\n",
    "\n",
    "\n",
    "weights_dirs = [\"weights_sz_v1\", \"weights_sz_v2\", \"weights_sz_v3\"]\n",
    "models = [\"unet\", \"resunet\", \"deeplabv3+\", \"linknet\", \"dlink34_1d\", \"dlink34\"]\n",
    "methods = [\"_gpsimage_only_gaussian_ltqs_log__\", \"_sat_gpsimage_gaussian_ltqs_log__\"]\n",
    "# methods = [\"_gpsdata_only_count_direct__\", \"_sat_only____\", \"_sat_gpsdata_count_direct__\"]\n",
    "\n",
    "\n",
    "for weights_dir in weights_dirs:\n",
    "    print(f\"Transposing pred from 1024 to 128 size for {weights_dir}:\")\n",
    "    for model in models:\n",
    "        print(f\"Model: {model}\")\n",
    "        for method in methods:\n",
    "            print(f\"Method: {method}\")\n",
    "            folder_path = f\"./{weights_dir}/{model}{method}\"\n",
    "            pred_path = os.path.join(folder_path, \"prediction\")\n",
    "            save_path = os.path.join(folder_path, \"prediction_transposed\")\n",
    "            if not os.path.exists(save_path):\n",
    "                os.makedirs(save_path)\n",
    "            iter = tqdm(os.listdir(pred_path))\n",
    "            for filename in iter:\n",
    "                if filename.endswith(\".png\"):\n",
    "                    pred_image_path = os.path.join(pred_path, filename)\n",
    "                    output_image_path = os.path.join(save_path, filename)\n",
    "                    transpose_image(pred_image_path, output_image_path)\n",
    "                    iter.set_description_str(f\"Processing {filename}\")\n",
    "\n",
    "print('Done!')\n"
   ]
  },
  {
   "cell_type": "code",
   "execution_count": 58,
   "metadata": {},
   "outputs": [
    {
     "name": "stderr",
     "output_type": "stream",
     "text": [
      "Processing 2003_3_mask.png: 100%|██████████| 172/172 [00:02<00:00, 80.89it/s]"
     ]
    },
    {
     "name": "stdout",
     "output_type": "stream",
     "text": [
      "Done!\n"
     ]
    },
    {
     "name": "stderr",
     "output_type": "stream",
     "text": [
      "\n"
     ]
    }
   ],
   "source": []
  }
 ],
 "metadata": {
  "kernelspec": {
   "display_name": "base",
   "language": "python",
   "name": "python3"
  },
  "language_info": {
   "codemirror_mode": {
    "name": "ipython",
    "version": 3
   },
   "file_extension": ".py",
   "mimetype": "text/x-python",
   "name": "python",
   "nbconvert_exporter": "python",
   "pygments_lexer": "ipython3",
   "version": "3.8.16"
  },
  "orig_nbformat": 4
 },
 "nbformat": 4,
 "nbformat_minor": 2
}
